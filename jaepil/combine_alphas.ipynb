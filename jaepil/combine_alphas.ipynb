{
 "cells": [
  {
   "cell_type": "markdown",
   "metadata": {},
   "source": [
    "팀원들의 알파를 combine"
   ]
  },
  {
   "cell_type": "code",
   "execution_count": 1,
   "metadata": {},
   "outputs": [],
   "source": [
    "import sys\n",
    "\n",
    "from pathlib import Path\n",
    "\n",
    "import pandas as pd\n",
    "import numpy as np\n",
    "\n",
    "import matplotlib.pyplot as plt\n",
    "from matplotlib import font_manager, rc\n",
    "import seaborn as sns"
   ]
  },
  {
   "cell_type": "code",
   "execution_count": 10,
   "metadata": {},
   "outputs": [],
   "source": [
    "# 경로설정\n",
    "\n",
    "CWD = Path.cwd()\n",
    "WORKSPACE_PATH = CWD.parent\n",
    "COMMON_PATH = WORKSPACE_PATH / 'common'\n",
    "DATA_PATH = WORKSPACE_PATH / 'data'\n",
    "ALPHAS_PATH = WORKSPACE_PATH / 'alphas'\n",
    "FONT_PATH = COMMON_PATH / 'fonts' / 'NanumGothic.ttf'\n",
    "\n",
    "JAEPIL_PATH = WORKSPACE_PATH / 'jaepil'\n",
    "BOBAE_PATH = WORKSPACE_PATH / 'bobae'\n",
    "GARAM_PATH = WORKSPACE_PATH / 'garam'"
   ]
  },
  {
   "cell_type": "code",
   "execution_count": 3,
   "metadata": {},
   "outputs": [],
   "source": [
    "font_prop = font_manager.FontProperties(fname=FONT_PATH)\n",
    "rc('font', family=font_prop.get_name())"
   ]
  },
  {
   "cell_type": "code",
   "execution_count": 4,
   "metadata": {},
   "outputs": [],
   "source": [
    "sys.path.append(str(COMMON_PATH))"
   ]
  },
  {
   "cell_type": "code",
   "execution_count": 5,
   "metadata": {},
   "outputs": [],
   "source": [
    "import fn_loader as fn\n",
    "import fn_config as fncfg\n",
    "import gaps_config as gcfg\n",
    "\n",
    "from validator import *\n",
    "from backtest import Backtest"
   ]
  },
  {
   "cell_type": "markdown",
   "metadata": {},
   "source": [
    "기준이 되는 return"
   ]
  },
  {
   "cell_type": "code",
   "execution_count": 19,
   "metadata": {},
   "outputs": [],
   "source": [
    "# loader 생성 (데이터 로드 + multi index로 전처리)\n",
    "# use_alias=True 일 경우 긴 ETF명 대신 축약한 단어 사용\n",
    "pricevolume1 = fn.FnDataLoader('DBGAPS2024_pricevolume_240722.xlsx', use_alias=True)  "
   ]
  },
  {
   "cell_type": "code",
   "execution_count": 20,
   "metadata": {},
   "outputs": [
    {
     "data": {
      "text/plain": [
       "Index(['return', 'adjopen', 'adjhigh', 'adjlow', 'adjclose', 'moneyvolume'], dtype='object')"
      ]
     },
     "execution_count": 20,
     "metadata": {},
     "output_type": "execute_result"
    }
   ],
   "source": [
    "pricevolume1.get_datafields()"
   ]
  },
  {
   "cell_type": "code",
   "execution_count": 21,
   "metadata": {},
   "outputs": [
    {
     "data": {
      "text/html": [
       "<div>\n",
       "<style scoped>\n",
       "    .dataframe tbody tr th:only-of-type {\n",
       "        vertical-align: middle;\n",
       "    }\n",
       "\n",
       "    .dataframe tbody tr th {\n",
       "        vertical-align: top;\n",
       "    }\n",
       "\n",
       "    .dataframe thead th {\n",
       "        text-align: right;\n",
       "    }\n",
       "</style>\n",
       "<table border=\"1\" class=\"dataframe\">\n",
       "  <thead>\n",
       "    <tr style=\"text-align: right;\">\n",
       "      <th></th>\n",
       "      <th>shortterm</th>\n",
       "      <th>usd</th>\n",
       "      <th>usdinv</th>\n",
       "      <th>kodexinv</th>\n",
       "      <th>oil</th>\n",
       "      <th>gold</th>\n",
       "      <th>hybond</th>\n",
       "      <th>midbond</th>\n",
       "      <th>10y</th>\n",
       "      <th>csi300</th>\n",
       "      <th>nikkei</th>\n",
       "      <th>euro50</th>\n",
       "      <th>sp500</th>\n",
       "      <th>kosdaq150</th>\n",
       "      <th>kodex200</th>\n",
       "    </tr>\n",
       "    <tr>\n",
       "      <th>Date</th>\n",
       "      <th></th>\n",
       "      <th></th>\n",
       "      <th></th>\n",
       "      <th></th>\n",
       "      <th></th>\n",
       "      <th></th>\n",
       "      <th></th>\n",
       "      <th></th>\n",
       "      <th></th>\n",
       "      <th></th>\n",
       "      <th></th>\n",
       "      <th></th>\n",
       "      <th></th>\n",
       "      <th></th>\n",
       "      <th></th>\n",
       "    </tr>\n",
       "  </thead>\n",
       "  <tbody>\n",
       "    <tr>\n",
       "      <th>2016-03-04</th>\n",
       "      <td>0.0000</td>\n",
       "      <td>-0.0096</td>\n",
       "      <td>0.0092</td>\n",
       "      <td>-0.0012</td>\n",
       "      <td>0.0127</td>\n",
       "      <td>0.0183</td>\n",
       "      <td>0.0037</td>\n",
       "      <td>-0.0020</td>\n",
       "      <td>-0.0019</td>\n",
       "      <td>0.0042</td>\n",
       "      <td>0.0019</td>\n",
       "      <td>-0.0046</td>\n",
       "      <td>0.0043</td>\n",
       "      <td>0.0028</td>\n",
       "      <td>0.0002</td>\n",
       "    </tr>\n",
       "    <tr>\n",
       "      <th>2016-03-07</th>\n",
       "      <td>0.0000</td>\n",
       "      <td>-0.0036</td>\n",
       "      <td>0.0019</td>\n",
       "      <td>-0.0024</td>\n",
       "      <td>0.0458</td>\n",
       "      <td>-0.0021</td>\n",
       "      <td>0.0037</td>\n",
       "      <td>0.0017</td>\n",
       "      <td>0.0000</td>\n",
       "      <td>0.0048</td>\n",
       "      <td>-0.0024</td>\n",
       "      <td>-0.0005</td>\n",
       "      <td>0.0006</td>\n",
       "      <td>-0.0051</td>\n",
       "      <td>0.0021</td>\n",
       "    </tr>\n",
       "    <tr>\n",
       "      <th>2016-03-08</th>\n",
       "      <td>-0.0001</td>\n",
       "      <td>0.0045</td>\n",
       "      <td>-0.0043</td>\n",
       "      <td>0.0079</td>\n",
       "      <td>0.0093</td>\n",
       "      <td>0.0067</td>\n",
       "      <td>0.0005</td>\n",
       "      <td>0.0000</td>\n",
       "      <td>0.0029</td>\n",
       "      <td>-0.0089</td>\n",
       "      <td>-0.0048</td>\n",
       "      <td>-0.0005</td>\n",
       "      <td>-0.0011</td>\n",
       "      <td>0.0009</td>\n",
       "      <td>-0.0070</td>\n",
       "    </tr>\n",
       "    <tr>\n",
       "      <th>2016-03-09</th>\n",
       "      <td>0.0002</td>\n",
       "      <td>0.0097</td>\n",
       "      <td>-0.0082</td>\n",
       "      <td>-0.0042</td>\n",
       "      <td>-0.0145</td>\n",
       "      <td>-0.0107</td>\n",
       "      <td>-0.0005</td>\n",
       "      <td>-0.0014</td>\n",
       "      <td>-0.0005</td>\n",
       "      <td>-0.0035</td>\n",
       "      <td>-0.0100</td>\n",
       "      <td>-0.0057</td>\n",
       "      <td>-0.0021</td>\n",
       "      <td>0.0060</td>\n",
       "      <td>0.0043</td>\n",
       "    </tr>\n",
       "    <tr>\n",
       "      <th>2016-03-10</th>\n",
       "      <td>-0.0001</td>\n",
       "      <td>-0.0108</td>\n",
       "      <td>0.0112</td>\n",
       "      <td>-0.0073</td>\n",
       "      <td>0.0174</td>\n",
       "      <td>-0.0046</td>\n",
       "      <td>-0.0010</td>\n",
       "      <td>0.0019</td>\n",
       "      <td>-0.0010</td>\n",
       "      <td>0.0021</td>\n",
       "      <td>0.0116</td>\n",
       "      <td>0.0010</td>\n",
       "      <td>0.0017</td>\n",
       "      <td>0.0055</td>\n",
       "      <td>0.0092</td>\n",
       "    </tr>\n",
       "  </tbody>\n",
       "</table>\n",
       "</div>"
      ],
      "text/plain": [
       "            shortterm     usd  usdinv  kodexinv     oil    gold  hybond  \\\n",
       "Date                                                                      \n",
       "2016-03-04     0.0000 -0.0096  0.0092   -0.0012  0.0127  0.0183  0.0037   \n",
       "2016-03-07     0.0000 -0.0036  0.0019   -0.0024  0.0458 -0.0021  0.0037   \n",
       "2016-03-08    -0.0001  0.0045 -0.0043    0.0079  0.0093  0.0067  0.0005   \n",
       "2016-03-09     0.0002  0.0097 -0.0082   -0.0042 -0.0145 -0.0107 -0.0005   \n",
       "2016-03-10    -0.0001 -0.0108  0.0112   -0.0073  0.0174 -0.0046 -0.0010   \n",
       "\n",
       "            midbond     10y  csi300  nikkei  euro50   sp500  kosdaq150  \\\n",
       "Date                                                                     \n",
       "2016-03-04  -0.0020 -0.0019  0.0042  0.0019 -0.0046  0.0043     0.0028   \n",
       "2016-03-07   0.0017  0.0000  0.0048 -0.0024 -0.0005  0.0006    -0.0051   \n",
       "2016-03-08   0.0000  0.0029 -0.0089 -0.0048 -0.0005 -0.0011     0.0009   \n",
       "2016-03-09  -0.0014 -0.0005 -0.0035 -0.0100 -0.0057 -0.0021     0.0060   \n",
       "2016-03-10   0.0019 -0.0010  0.0021  0.0116  0.0010  0.0017     0.0055   \n",
       "\n",
       "            kodex200  \n",
       "Date                  \n",
       "2016-03-04    0.0002  \n",
       "2016-03-07    0.0021  \n",
       "2016-03-08   -0.0070  \n",
       "2016-03-09    0.0043  \n",
       "2016-03-10    0.0092  "
      ]
     },
     "execution_count": 21,
     "metadata": {},
     "output_type": "execute_result"
    }
   ],
   "source": [
    "return_df = pricevolume1.get_data('return') / 100 # \n",
    "return_df.head() "
   ]
  },
  {
   "cell_type": "markdown",
   "metadata": {},
   "source": [
    "팀원들 weights"
   ]
  },
  {
   "cell_type": "code",
   "execution_count": 23,
   "metadata": {},
   "outputs": [],
   "source": [
    "jp_mvo = pd.read_pickle(ALPHAS_PATH / 'jaepil_mvo.pkl')"
   ]
  },
  {
   "cell_type": "code",
   "execution_count": 47,
   "metadata": {},
   "outputs": [
    {
     "data": {
      "text/plain": [
       "Index(['kodex200', 'kosdaq150', 'sp500', 'euro50', 'nikkei', 'csi300', '10y',\n",
       "       'midbond', 'hybond', 'gold', 'oil', 'kodexinv', 'usd', 'usdinv',\n",
       "       'shortterm'],\n",
       "      dtype='object')"
      ]
     },
     "execution_count": 47,
     "metadata": {},
     "output_type": "execute_result"
    }
   ],
   "source": [
    "asset_order = jp_mvo.columns\n",
    "asset_order"
   ]
  },
  {
   "cell_type": "code",
   "execution_count": 33,
   "metadata": {},
   "outputs": [],
   "source": [
    "bb_rp = pd.read_excel(BOBAE_PATH / '포트폴리오비중_20240722.xlsx', index_col=0)"
   ]
  },
  {
   "cell_type": "code",
   "execution_count": 35,
   "metadata": {},
   "outputs": [],
   "source": [
    "bb_rp.index = pd.to_datetime(bb_rp.index)\n",
    "bb_rp.drop('cash', axis=1, inplace=True) # cash 대신 mmf 쓸꺼니까 삭제. \n",
    "\n",
    "# 하지만 cash의 weight는 1%~50% 사이이다. 즉, weight sum이 1이 아닌 0.99가 되어야 함. "
   ]
  },
  {
   "cell_type": "code",
   "execution_count": 49,
   "metadata": {},
   "outputs": [],
   "source": [
    "bb_rp = bb_rp[asset_order].copy() # column 순서를 맞춰준다. 필수적. "
   ]
  },
  {
   "cell_type": "code",
   "execution_count": 53,
   "metadata": {},
   "outputs": [
    {
     "data": {
      "text/html": [
       "<div>\n",
       "<style scoped>\n",
       "    .dataframe tbody tr th:only-of-type {\n",
       "        vertical-align: middle;\n",
       "    }\n",
       "\n",
       "    .dataframe tbody tr th {\n",
       "        vertical-align: top;\n",
       "    }\n",
       "\n",
       "    .dataframe thead th {\n",
       "        text-align: right;\n",
       "    }\n",
       "</style>\n",
       "<table border=\"1\" class=\"dataframe\">\n",
       "  <thead>\n",
       "    <tr style=\"text-align: right;\">\n",
       "      <th></th>\n",
       "      <th>kodex200</th>\n",
       "      <th>kosdaq150</th>\n",
       "      <th>sp500</th>\n",
       "      <th>euro50</th>\n",
       "      <th>nikkei</th>\n",
       "      <th>csi300</th>\n",
       "      <th>10y</th>\n",
       "      <th>midbond</th>\n",
       "      <th>hybond</th>\n",
       "      <th>gold</th>\n",
       "      <th>oil</th>\n",
       "      <th>kodexinv</th>\n",
       "      <th>usd</th>\n",
       "      <th>usdinv</th>\n",
       "      <th>shortterm</th>\n",
       "    </tr>\n",
       "  </thead>\n",
       "  <tbody>\n",
       "    <tr>\n",
       "      <th>2017-03-31</th>\n",
       "      <td>0.075739</td>\n",
       "      <td>0.024261</td>\n",
       "      <td>0.061996</td>\n",
       "      <td>0.024536</td>\n",
       "      <td>0.105793</td>\n",
       "      <td>1.843618e-16</td>\n",
       "      <td>0.091880</td>\n",
       "      <td>0.246915</td>\n",
       "      <td>0.070684</td>\n",
       "      <td>0.049744</td>\n",
       "      <td>0.037806</td>\n",
       "      <td>1.048559e-16</td>\n",
       "      <td>4.206704e-17</td>\n",
       "      <td>0.081408</td>\n",
       "      <td>0.129236</td>\n",
       "    </tr>\n",
       "    <tr>\n",
       "      <th>2017-04-28</th>\n",
       "      <td>0.074142</td>\n",
       "      <td>0.025858</td>\n",
       "      <td>0.067842</td>\n",
       "      <td>0.028076</td>\n",
       "      <td>0.109789</td>\n",
       "      <td>1.995288e-16</td>\n",
       "      <td>0.094179</td>\n",
       "      <td>0.256790</td>\n",
       "      <td>0.088831</td>\n",
       "      <td>0.056830</td>\n",
       "      <td>0.053139</td>\n",
       "      <td>0.000000e+00</td>\n",
       "      <td>0.000000e+00</td>\n",
       "      <td>0.099928</td>\n",
       "      <td>0.044597</td>\n",
       "    </tr>\n",
       "    <tr>\n",
       "      <th>2017-05-31</th>\n",
       "      <td>0.073757</td>\n",
       "      <td>0.026243</td>\n",
       "      <td>0.076124</td>\n",
       "      <td>0.032768</td>\n",
       "      <td>0.111799</td>\n",
       "      <td>1.512275e-16</td>\n",
       "      <td>0.093742</td>\n",
       "      <td>0.246853</td>\n",
       "      <td>0.095403</td>\n",
       "      <td>0.067908</td>\n",
       "      <td>0.056714</td>\n",
       "      <td>0.000000e+00</td>\n",
       "      <td>0.000000e+00</td>\n",
       "      <td>0.108690</td>\n",
       "      <td>0.010000</td>\n",
       "    </tr>\n",
       "    <tr>\n",
       "      <th>2017-06-30</th>\n",
       "      <td>0.079063</td>\n",
       "      <td>0.020937</td>\n",
       "      <td>0.072915</td>\n",
       "      <td>0.026224</td>\n",
       "      <td>0.078658</td>\n",
       "      <td>4.974382e-17</td>\n",
       "      <td>0.073626</td>\n",
       "      <td>0.216797</td>\n",
       "      <td>0.097338</td>\n",
       "      <td>0.081857</td>\n",
       "      <td>0.025074</td>\n",
       "      <td>0.000000e+00</td>\n",
       "      <td>1.159833e-01</td>\n",
       "      <td>0.000000</td>\n",
       "      <td>0.111527</td>\n",
       "    </tr>\n",
       "    <tr>\n",
       "      <th>2017-07-31</th>\n",
       "      <td>0.078399</td>\n",
       "      <td>0.021601</td>\n",
       "      <td>0.098882</td>\n",
       "      <td>0.030777</td>\n",
       "      <td>0.109481</td>\n",
       "      <td>7.554179e-17</td>\n",
       "      <td>0.087100</td>\n",
       "      <td>0.230072</td>\n",
       "      <td>0.125801</td>\n",
       "      <td>0.092067</td>\n",
       "      <td>0.019168</td>\n",
       "      <td>5.967178e-17</td>\n",
       "      <td>9.018667e-02</td>\n",
       "      <td>0.000000</td>\n",
       "      <td>0.016466</td>\n",
       "    </tr>\n",
       "  </tbody>\n",
       "</table>\n",
       "</div>"
      ],
      "text/plain": [
       "            kodex200  kosdaq150     sp500    euro50    nikkei        csi300  \\\n",
       "2017-03-31  0.075739   0.024261  0.061996  0.024536  0.105793  1.843618e-16   \n",
       "2017-04-28  0.074142   0.025858  0.067842  0.028076  0.109789  1.995288e-16   \n",
       "2017-05-31  0.073757   0.026243  0.076124  0.032768  0.111799  1.512275e-16   \n",
       "2017-06-30  0.079063   0.020937  0.072915  0.026224  0.078658  4.974382e-17   \n",
       "2017-07-31  0.078399   0.021601  0.098882  0.030777  0.109481  7.554179e-17   \n",
       "\n",
       "                 10y   midbond    hybond      gold       oil      kodexinv  \\\n",
       "2017-03-31  0.091880  0.246915  0.070684  0.049744  0.037806  1.048559e-16   \n",
       "2017-04-28  0.094179  0.256790  0.088831  0.056830  0.053139  0.000000e+00   \n",
       "2017-05-31  0.093742  0.246853  0.095403  0.067908  0.056714  0.000000e+00   \n",
       "2017-06-30  0.073626  0.216797  0.097338  0.081857  0.025074  0.000000e+00   \n",
       "2017-07-31  0.087100  0.230072  0.125801  0.092067  0.019168  5.967178e-17   \n",
       "\n",
       "                     usd    usdinv  shortterm  \n",
       "2017-03-31  4.206704e-17  0.081408   0.129236  \n",
       "2017-04-28  0.000000e+00  0.099928   0.044597  \n",
       "2017-05-31  0.000000e+00  0.108690   0.010000  \n",
       "2017-06-30  1.159833e-01  0.000000   0.111527  \n",
       "2017-07-31  9.018667e-02  0.000000   0.016466  "
      ]
     },
     "execution_count": 53,
     "metadata": {},
     "output_type": "execute_result"
    }
   ],
   "source": [
    "bb_rp.head()"
   ]
  },
  {
   "cell_type": "code",
   "execution_count": 55,
   "metadata": {},
   "outputs": [
    {
     "data": {
      "text/html": [
       "<div>\n",
       "<style scoped>\n",
       "    .dataframe tbody tr th:only-of-type {\n",
       "        vertical-align: middle;\n",
       "    }\n",
       "\n",
       "    .dataframe tbody tr th {\n",
       "        vertical-align: top;\n",
       "    }\n",
       "\n",
       "    .dataframe thead th {\n",
       "        text-align: right;\n",
       "    }\n",
       "</style>\n",
       "<table border=\"1\" class=\"dataframe\">\n",
       "  <thead>\n",
       "    <tr style=\"text-align: right;\">\n",
       "      <th></th>\n",
       "      <th>kodex200</th>\n",
       "      <th>kosdaq150</th>\n",
       "      <th>sp500</th>\n",
       "      <th>euro50</th>\n",
       "      <th>nikkei</th>\n",
       "      <th>csi300</th>\n",
       "      <th>10y</th>\n",
       "      <th>midbond</th>\n",
       "      <th>hybond</th>\n",
       "      <th>gold</th>\n",
       "      <th>oil</th>\n",
       "      <th>kodexinv</th>\n",
       "      <th>usd</th>\n",
       "      <th>usdinv</th>\n",
       "      <th>shortterm</th>\n",
       "    </tr>\n",
       "  </thead>\n",
       "  <tbody>\n",
       "    <tr>\n",
       "      <th>2017-03-31</th>\n",
       "      <td>0.075717</td>\n",
       "      <td>0.024283</td>\n",
       "      <td>0.061044</td>\n",
       "      <td>0.023540</td>\n",
       "      <td>0.104801</td>\n",
       "      <td>0.000000e+00</td>\n",
       "      <td>0.090901</td>\n",
       "      <td>0.245793</td>\n",
       "      <td>0.069702</td>\n",
       "      <td>0.048743</td>\n",
       "      <td>0.036815</td>\n",
       "      <td>5.963112e-19</td>\n",
       "      <td>1.761829e-19</td>\n",
       "      <td>8.043854e-02</td>\n",
       "      <td>0.128222</td>\n",
       "    </tr>\n",
       "    <tr>\n",
       "      <th>2017-04-28</th>\n",
       "      <td>0.074117</td>\n",
       "      <td>0.025883</td>\n",
       "      <td>0.066874</td>\n",
       "      <td>0.027079</td>\n",
       "      <td>0.108777</td>\n",
       "      <td>0.000000e+00</td>\n",
       "      <td>0.093184</td>\n",
       "      <td>0.255656</td>\n",
       "      <td>0.087842</td>\n",
       "      <td>0.055854</td>\n",
       "      <td>0.052167</td>\n",
       "      <td>0.000000e+00</td>\n",
       "      <td>4.099639e-19</td>\n",
       "      <td>9.892669e-02</td>\n",
       "      <td>0.043641</td>\n",
       "    </tr>\n",
       "    <tr>\n",
       "      <th>2017-05-31</th>\n",
       "      <td>0.073721</td>\n",
       "      <td>0.026279</td>\n",
       "      <td>0.075179</td>\n",
       "      <td>0.031991</td>\n",
       "      <td>0.110799</td>\n",
       "      <td>2.303930e-19</td>\n",
       "      <td>0.092770</td>\n",
       "      <td>0.245646</td>\n",
       "      <td>0.094428</td>\n",
       "      <td>0.066988</td>\n",
       "      <td>0.055811</td>\n",
       "      <td>0.000000e+00</td>\n",
       "      <td>3.388132e-20</td>\n",
       "      <td>1.076950e-01</td>\n",
       "      <td>0.008694</td>\n",
       "    </tr>\n",
       "    <tr>\n",
       "      <th>2017-06-30</th>\n",
       "      <td>0.079035</td>\n",
       "      <td>0.020965</td>\n",
       "      <td>0.071968</td>\n",
       "      <td>0.025234</td>\n",
       "      <td>0.077702</td>\n",
       "      <td>4.065758e-20</td>\n",
       "      <td>0.072678</td>\n",
       "      <td>0.215611</td>\n",
       "      <td>0.096351</td>\n",
       "      <td>0.080895</td>\n",
       "      <td>0.024079</td>\n",
       "      <td>6.098637e-19</td>\n",
       "      <td>1.149649e-01</td>\n",
       "      <td>1.355253e-20</td>\n",
       "      <td>0.110516</td>\n",
       "    </tr>\n",
       "    <tr>\n",
       "      <th>2017-07-31</th>\n",
       "      <td>0.078359</td>\n",
       "      <td>0.021641</td>\n",
       "      <td>0.097913</td>\n",
       "      <td>0.029862</td>\n",
       "      <td>0.108495</td>\n",
       "      <td>0.000000e+00</td>\n",
       "      <td>0.086151</td>\n",
       "      <td>0.228877</td>\n",
       "      <td>0.124786</td>\n",
       "      <td>0.091110</td>\n",
       "      <td>0.018244</td>\n",
       "      <td>3.252607e-19</td>\n",
       "      <td>8.923308e-02</td>\n",
       "      <td>0.000000e+00</td>\n",
       "      <td>0.015330</td>\n",
       "    </tr>\n",
       "  </tbody>\n",
       "</table>\n",
       "</div>"
      ],
      "text/plain": [
       "            kodex200  kosdaq150     sp500    euro50    nikkei        csi300  \\\n",
       "2017-03-31  0.075717   0.024283  0.061044  0.023540  0.104801  0.000000e+00   \n",
       "2017-04-28  0.074117   0.025883  0.066874  0.027079  0.108777  0.000000e+00   \n",
       "2017-05-31  0.073721   0.026279  0.075179  0.031991  0.110799  2.303930e-19   \n",
       "2017-06-30  0.079035   0.020965  0.071968  0.025234  0.077702  4.065758e-20   \n",
       "2017-07-31  0.078359   0.021641  0.097913  0.029862  0.108495  0.000000e+00   \n",
       "\n",
       "                 10y   midbond    hybond      gold       oil      kodexinv  \\\n",
       "2017-03-31  0.090901  0.245793  0.069702  0.048743  0.036815  5.963112e-19   \n",
       "2017-04-28  0.093184  0.255656  0.087842  0.055854  0.052167  0.000000e+00   \n",
       "2017-05-31  0.092770  0.245646  0.094428  0.066988  0.055811  0.000000e+00   \n",
       "2017-06-30  0.072678  0.215611  0.096351  0.080895  0.024079  6.098637e-19   \n",
       "2017-07-31  0.086151  0.228877  0.124786  0.091110  0.018244  3.252607e-19   \n",
       "\n",
       "                     usd        usdinv  shortterm  \n",
       "2017-03-31  1.761829e-19  8.043854e-02   0.128222  \n",
       "2017-04-28  4.099639e-19  9.892669e-02   0.043641  \n",
       "2017-05-31  3.388132e-20  1.076950e-01   0.008694  \n",
       "2017-06-30  1.149649e-01  1.355253e-20   0.110516  \n",
       "2017-07-31  8.923308e-02  0.000000e+00   0.015330  "
      ]
     },
     "execution_count": 55,
     "metadata": {},
     "output_type": "execute_result"
    }
   ],
   "source": [
    "bb_rp = ConstraintHandler.apply_constraints(\n",
    "    weights_df=bb_rp,\n",
    "    objective_function=obj_mse\n",
    ").copy() # 최대한 본래 weight를 안건드리며 weight를 재조정한다. \n",
    "\n",
    "bb_rp.head() # 위의 weight와 비교해보자. 거의 안바뀐 것을 확인할 수 있음. "
   ]
  },
  {
   "cell_type": "markdown",
   "metadata": {},
   "source": [
    "Alpha 화\n",
    "\n",
    "생성과 동시에 constraint 만족 검증까지 함. "
   ]
  },
  {
   "cell_type": "code",
   "execution_count": 31,
   "metadata": {},
   "outputs": [],
   "source": [
    "jp_mvo_alpha = Alpha('jaepil', jp_mvo)"
   ]
  },
  {
   "cell_type": "code",
   "execution_count": 56,
   "metadata": {},
   "outputs": [],
   "source": [
    "bb_rp_alpha = Alpha('bobae', bb_rp)"
   ]
  },
  {
   "cell_type": "markdown",
   "metadata": {},
   "source": [
    "Backtest 화 "
   ]
  },
  {
   "cell_type": "code",
   "execution_count": 58,
   "metadata": {},
   "outputs": [],
   "source": [
    "jp_mvo_back = Backtest(jp_mvo_alpha, return_df)"
   ]
  },
  {
   "cell_type": "code",
   "execution_count": 59,
   "metadata": {},
   "outputs": [],
   "source": [
    "bb_rp_back = Backtest(bb_rp_alpha, return_df)"
   ]
  },
  {
   "cell_type": "markdown",
   "metadata": {},
   "source": [
    "두 백테 + 가람 결과를 plot \n",
    "\n",
    "가람이꺼는 cum return series만 가져옴"
   ]
  },
  {
   "cell_type": "code",
   "execution_count": 61,
   "metadata": {},
   "outputs": [],
   "source": [
    "import pickle\n",
    "\n",
    "with open(ALPHAS_PATH / 'garam_hrp_cumreturn.pkl', 'rb') as f:\n",
    "    gr_hrp_cumreturn = pickle.load(f)"
   ]
  },
  {
   "cell_type": "code",
   "execution_count": 64,
   "metadata": {},
   "outputs": [
    {
     "data": {
      "text/plain": [
       "<Axes: xlabel='Date'>"
      ]
     },
     "execution_count": 64,
     "metadata": {},
     "output_type": "execute_result"
    },
    {
     "data": {
      "image/png": "[encoded data removed]",
      "text/plain": [
       "<Figure size 1000x600 with 1 Axes>"
      ]
     },
     "metadata": {},
     "output_type": "display_data"
    }
   ],
   "source": [
    "# 지금 시작시점이 다 달라서 제대로 비교 불가. \n",
    "# 앞으로 같은 데이터셋 사용해야 이런 문제 최소화 가능. \n",
    "\n",
    "jp_mvo_back.plot_cum_return()\n",
    "bb_rp_back.plot_cum_return()\n",
    "(gr_hrp_cumreturn - 1).plot()\n"
   ]
  },
  {
   "cell_type": "code",
   "execution_count": null,
   "metadata": {},
   "outputs": [],
   "source": []
  }
 ],
 "metadata": {
  "kernelspec": {
   "display_name": "sandbox311",
   "language": "python",
   "name": "python3"
  },
  "language_info": {
   "codemirror_mode": {
    "name": "ipython",
    "version": 3
   },
   "file_extension": ".py",
   "mimetype": "text/x-python",
   "name": "python",
   "nbconvert_exporter": "python",
   "pygments_lexer": "ipython3",
   "version": "3.11.9"
  }
 },
 "nbformat": 4,
 "nbformat_minor": 2
}
