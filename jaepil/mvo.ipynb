{
 "cells": [
  {
   "cell_type": "markdown",
   "metadata": {},
   "source": [
    "# Mean-Variance Optimization"
   ]
  },
  {
   "cell_type": "code",
   "execution_count": 1,
   "metadata": {},
   "outputs": [],
   "source": [
    "import sys\n",
    "\n",
    "from pathlib import Path\n",
    "\n",
    "import pandas as pd\n",
    "import numpy as np\n",
    "\n",
    "import matplotlib.pyplot as plt\n",
    "from matplotlib import font_manager, rc\n",
    "import seaborn as sns"
   ]
  },
  {
   "cell_type": "code",
   "execution_count": 2,
   "metadata": {},
   "outputs": [],
   "source": [
    "# 경로설정\n",
    "\n",
    "CWD = Path.cwd()\n",
    "WORKSPACE_PATH = CWD.parent\n",
    "COMMON_PATH = WORKSPACE_PATH / 'common'\n",
    "DATA_PATH = WORKSPACE_PATH / 'data'\n",
    "FONT_PATH = COMMON_PATH / 'fonts' / 'NanumGothic.ttf'"
   ]
  },
  {
   "cell_type": "code",
   "execution_count": 3,
   "metadata": {},
   "outputs": [],
   "source": [
    "font_prop = font_manager.FontProperties(fname=FONT_PATH)\n",
    "rc('font', family=font_prop.get_name())"
   ]
  },
  {
   "cell_type": "code",
   "execution_count": 4,
   "metadata": {},
   "outputs": [],
   "source": [
    "sys.path.append(str(COMMON_PATH))"
   ]
  },
  {
   "cell_type": "code",
   "execution_count": 5,
   "metadata": {},
   "outputs": [],
   "source": [
    "import fn_loader as fn\n",
    "import fn_config as fncfg\n",
    "import gaps_config as gcfg\n",
    "\n",
    "from validator import *"
   ]
  },
  {
   "cell_type": "markdown",
   "metadata": {},
   "source": [
    "## Import Data"
   ]
  },
  {
   "cell_type": "code",
   "execution_count": 6,
   "metadata": {},
   "outputs": [],
   "source": [
    "# loader 생성 (데이터 로드 + multi index로 전처리)\n",
    "# use_alias=True 일 경우 긴 ETF명 대신 축약한 단어 사용\n",
    "pricevolume1 = fn.FnDataLoader('DBGAPS2024_pricevolume.xlsx', use_alias=True)  "
   ]
  },
  {
   "cell_type": "code",
   "execution_count": 7,
   "metadata": {},
   "outputs": [
    {
     "data": {
      "text/plain": [
       "Index(['return', 'adjopen', 'adjhigh', 'adjlow', 'adjclose', 'moneyvolume'], dtype='object')"
      ]
     },
     "execution_count": 7,
     "metadata": {},
     "output_type": "execute_result"
    }
   ],
   "source": [
    "pricevolume1.get_datafields()"
   ]
  },
  {
   "cell_type": "code",
   "execution_count": 8,
   "metadata": {},
   "outputs": [],
   "source": [
    "# pricevolume2 = fn.FnDataLoader('DBGAPS2024_pricevolume2.xlsx', use_alias=True)"
   ]
  },
  {
   "cell_type": "code",
   "execution_count": 9,
   "metadata": {},
   "outputs": [],
   "source": [
    "# pricevolume2.get_datafields()"
   ]
  },
  {
   "cell_type": "code",
   "execution_count": 10,
   "metadata": {},
   "outputs": [
    {
     "data": {
      "text/html": [
       "<div>\n",
       "<style scoped>\n",
       "    .dataframe tbody tr th:only-of-type {\n",
       "        vertical-align: middle;\n",
       "    }\n",
       "\n",
       "    .dataframe tbody tr th {\n",
       "        vertical-align: top;\n",
       "    }\n",
       "\n",
       "    .dataframe thead th {\n",
       "        text-align: right;\n",
       "    }\n",
       "</style>\n",
       "<table border=\"1\" class=\"dataframe\">\n",
       "  <thead>\n",
       "    <tr style=\"text-align: right;\">\n",
       "      <th></th>\n",
       "      <th>shortterm</th>\n",
       "      <th>usd</th>\n",
       "      <th>usdinv</th>\n",
       "      <th>kodexinv</th>\n",
       "      <th>oil</th>\n",
       "      <th>gold</th>\n",
       "      <th>hybond</th>\n",
       "      <th>midbond</th>\n",
       "      <th>10y</th>\n",
       "      <th>csi300</th>\n",
       "      <th>nikkei</th>\n",
       "      <th>euro50</th>\n",
       "      <th>sp500</th>\n",
       "      <th>kosdaq150</th>\n",
       "      <th>kodex200</th>\n",
       "    </tr>\n",
       "    <tr>\n",
       "      <th>Date</th>\n",
       "      <th></th>\n",
       "      <th></th>\n",
       "      <th></th>\n",
       "      <th></th>\n",
       "      <th></th>\n",
       "      <th></th>\n",
       "      <th></th>\n",
       "      <th></th>\n",
       "      <th></th>\n",
       "      <th></th>\n",
       "      <th></th>\n",
       "      <th></th>\n",
       "      <th></th>\n",
       "      <th></th>\n",
       "      <th></th>\n",
       "    </tr>\n",
       "  </thead>\n",
       "  <tbody>\n",
       "    <tr>\n",
       "      <th>2016-03-04</th>\n",
       "      <td>0.00</td>\n",
       "      <td>-0.96</td>\n",
       "      <td>0.92</td>\n",
       "      <td>-0.12</td>\n",
       "      <td>1.27</td>\n",
       "      <td>1.83</td>\n",
       "      <td>0.37</td>\n",
       "      <td>-0.20</td>\n",
       "      <td>-0.19</td>\n",
       "      <td>0.42</td>\n",
       "      <td>0.19</td>\n",
       "      <td>-0.46</td>\n",
       "      <td>0.43</td>\n",
       "      <td>0.28</td>\n",
       "      <td>0.02</td>\n",
       "    </tr>\n",
       "    <tr>\n",
       "      <th>2016-03-07</th>\n",
       "      <td>0.00</td>\n",
       "      <td>-0.36</td>\n",
       "      <td>0.19</td>\n",
       "      <td>-0.24</td>\n",
       "      <td>4.58</td>\n",
       "      <td>-0.21</td>\n",
       "      <td>0.37</td>\n",
       "      <td>0.17</td>\n",
       "      <td>0.00</td>\n",
       "      <td>0.48</td>\n",
       "      <td>-0.24</td>\n",
       "      <td>-0.05</td>\n",
       "      <td>0.06</td>\n",
       "      <td>-0.51</td>\n",
       "      <td>0.21</td>\n",
       "    </tr>\n",
       "    <tr>\n",
       "      <th>2016-03-08</th>\n",
       "      <td>-0.01</td>\n",
       "      <td>0.45</td>\n",
       "      <td>-0.43</td>\n",
       "      <td>0.79</td>\n",
       "      <td>0.93</td>\n",
       "      <td>0.67</td>\n",
       "      <td>0.05</td>\n",
       "      <td>0.00</td>\n",
       "      <td>0.29</td>\n",
       "      <td>-0.89</td>\n",
       "      <td>-0.48</td>\n",
       "      <td>-0.05</td>\n",
       "      <td>-0.11</td>\n",
       "      <td>0.09</td>\n",
       "      <td>-0.70</td>\n",
       "    </tr>\n",
       "    <tr>\n",
       "      <th>2016-03-09</th>\n",
       "      <td>0.02</td>\n",
       "      <td>0.97</td>\n",
       "      <td>-0.82</td>\n",
       "      <td>-0.42</td>\n",
       "      <td>-1.45</td>\n",
       "      <td>-1.07</td>\n",
       "      <td>-0.05</td>\n",
       "      <td>-0.14</td>\n",
       "      <td>-0.05</td>\n",
       "      <td>-0.35</td>\n",
       "      <td>-1.00</td>\n",
       "      <td>-0.57</td>\n",
       "      <td>-0.21</td>\n",
       "      <td>0.60</td>\n",
       "      <td>0.43</td>\n",
       "    </tr>\n",
       "    <tr>\n",
       "      <th>2016-03-10</th>\n",
       "      <td>-0.01</td>\n",
       "      <td>-1.08</td>\n",
       "      <td>1.12</td>\n",
       "      <td>-0.73</td>\n",
       "      <td>1.74</td>\n",
       "      <td>-0.46</td>\n",
       "      <td>-0.10</td>\n",
       "      <td>0.19</td>\n",
       "      <td>-0.10</td>\n",
       "      <td>0.21</td>\n",
       "      <td>1.16</td>\n",
       "      <td>0.10</td>\n",
       "      <td>0.17</td>\n",
       "      <td>0.55</td>\n",
       "      <td>0.92</td>\n",
       "    </tr>\n",
       "  </tbody>\n",
       "</table>\n",
       "</div>"
      ],
      "text/plain": [
       "            shortterm   usd  usdinv  kodexinv   oil  gold  hybond  midbond  \\\n",
       "Date                                                                         \n",
       "2016-03-04       0.00 -0.96    0.92     -0.12  1.27  1.83    0.37    -0.20   \n",
       "2016-03-07       0.00 -0.36    0.19     -0.24  4.58 -0.21    0.37     0.17   \n",
       "2016-03-08      -0.01  0.45   -0.43      0.79  0.93  0.67    0.05     0.00   \n",
       "2016-03-09       0.02  0.97   -0.82     -0.42 -1.45 -1.07   -0.05    -0.14   \n",
       "2016-03-10      -0.01 -1.08    1.12     -0.73  1.74 -0.46   -0.10     0.19   \n",
       "\n",
       "             10y  csi300  nikkei  euro50  sp500  kosdaq150  kodex200  \n",
       "Date                                                                  \n",
       "2016-03-04 -0.19    0.42    0.19   -0.46   0.43       0.28      0.02  \n",
       "2016-03-07  0.00    0.48   -0.24   -0.05   0.06      -0.51      0.21  \n",
       "2016-03-08  0.29   -0.89   -0.48   -0.05  -0.11       0.09     -0.70  \n",
       "2016-03-09 -0.05   -0.35   -1.00   -0.57  -0.21       0.60      0.43  \n",
       "2016-03-10 -0.10    0.21    1.16    0.10   0.17       0.55      0.92  "
      ]
     },
     "execution_count": 10,
     "metadata": {},
     "output_type": "execute_result"
    }
   ],
   "source": [
    "return_df = pricevolume1.get_data('return') # \n",
    "return_df.head() "
   ]
  },
  {
   "cell_type": "markdown",
   "metadata": {},
   "source": [
    "## MVO"
   ]
  },
  {
   "cell_type": "code",
   "execution_count": 11,
   "metadata": {},
   "outputs": [],
   "source": [
    "# Parameters\n",
    "\n",
    "WINDOW = 20"
   ]
  },
  {
   "cell_type": "code",
   "execution_count": 12,
   "metadata": {},
   "outputs": [],
   "source": [
    "# Function to compute the tangent portfolio weights using closed-form solution\n",
    "def tangent_portfolio_weights(mean_returns, cov_matrix):\n",
    "    inv_cov_matrix = np.linalg.inv(cov_matrix)\n",
    "    ones = np.ones(len(mean_returns))\n",
    "    tangent_weights = np.dot(inv_cov_matrix, mean_returns)\n",
    "    tangent_weights /= np.dot(ones, tangent_weights)\n",
    "    return tangent_weights\n"
   ]
  },
  {
   "cell_type": "code",
   "execution_count": 13,
   "metadata": {},
   "outputs": [
    {
     "data": {
      "text/html": [
       "<div>\n",
       "<style scoped>\n",
       "    .dataframe tbody tr th:only-of-type {\n",
       "        vertical-align: middle;\n",
       "    }\n",
       "\n",
       "    .dataframe tbody tr th {\n",
       "        vertical-align: top;\n",
       "    }\n",
       "\n",
       "    .dataframe thead th {\n",
       "        text-align: right;\n",
       "    }\n",
       "</style>\n",
       "<table border=\"1\" class=\"dataframe\">\n",
       "  <thead>\n",
       "    <tr style=\"text-align: right;\">\n",
       "      <th></th>\n",
       "      <th>shortterm</th>\n",
       "      <th>usd</th>\n",
       "      <th>usdinv</th>\n",
       "      <th>kodexinv</th>\n",
       "      <th>oil</th>\n",
       "      <th>gold</th>\n",
       "      <th>hybond</th>\n",
       "      <th>midbond</th>\n",
       "      <th>10y</th>\n",
       "      <th>csi300</th>\n",
       "      <th>nikkei</th>\n",
       "      <th>euro50</th>\n",
       "      <th>sp500</th>\n",
       "      <th>kosdaq150</th>\n",
       "      <th>kodex200</th>\n",
       "    </tr>\n",
       "  </thead>\n",
       "  <tbody>\n",
       "    <tr>\n",
       "      <th>2016-03-31</th>\n",
       "      <td>0.948809</td>\n",
       "      <td>0.011406</td>\n",
       "      <td>0.018267</td>\n",
       "      <td>-0.011582</td>\n",
       "      <td>0.005114</td>\n",
       "      <td>-0.015002</td>\n",
       "      <td>0.015295</td>\n",
       "      <td>-0.018544</td>\n",
       "      <td>0.041146</td>\n",
       "      <td>-0.016203</td>\n",
       "      <td>-0.000289</td>\n",
       "      <td>-0.009118</td>\n",
       "      <td>0.046988</td>\n",
       "      <td>-0.011598</td>\n",
       "      <td>-0.004691</td>\n",
       "    </tr>\n",
       "    <tr>\n",
       "      <th>2016-04-29</th>\n",
       "      <td>0.915505</td>\n",
       "      <td>0.032745</td>\n",
       "      <td>0.028287</td>\n",
       "      <td>0.069302</td>\n",
       "      <td>0.006757</td>\n",
       "      <td>-0.025602</td>\n",
       "      <td>0.059729</td>\n",
       "      <td>-0.279076</td>\n",
       "      <td>0.154339</td>\n",
       "      <td>-0.012394</td>\n",
       "      <td>-0.010097</td>\n",
       "      <td>0.004433</td>\n",
       "      <td>0.004437</td>\n",
       "      <td>-0.005199</td>\n",
       "      <td>0.056833</td>\n",
       "    </tr>\n",
       "    <tr>\n",
       "      <th>2016-05-31</th>\n",
       "      <td>1.119990</td>\n",
       "      <td>-0.101811</td>\n",
       "      <td>-0.121403</td>\n",
       "      <td>0.012105</td>\n",
       "      <td>0.004959</td>\n",
       "      <td>-0.000730</td>\n",
       "      <td>0.025001</td>\n",
       "      <td>-0.086753</td>\n",
       "      <td>0.125693</td>\n",
       "      <td>0.008237</td>\n",
       "      <td>-0.004628</td>\n",
       "      <td>0.020287</td>\n",
       "      <td>0.011496</td>\n",
       "      <td>-0.006049</td>\n",
       "      <td>-0.006394</td>\n",
       "    </tr>\n",
       "    <tr>\n",
       "      <th>2016-06-29</th>\n",
       "      <td>0.882970</td>\n",
       "      <td>-0.036727</td>\n",
       "      <td>0.002915</td>\n",
       "      <td>-0.063515</td>\n",
       "      <td>-0.003138</td>\n",
       "      <td>-0.009640</td>\n",
       "      <td>-0.022565</td>\n",
       "      <td>0.430402</td>\n",
       "      <td>-0.080325</td>\n",
       "      <td>-0.002859</td>\n",
       "      <td>0.009702</td>\n",
       "      <td>0.000204</td>\n",
       "      <td>-0.049995</td>\n",
       "      <td>-0.004591</td>\n",
       "      <td>-0.052838</td>\n",
       "    </tr>\n",
       "    <tr>\n",
       "      <th>2016-07-27</th>\n",
       "      <td>0.990045</td>\n",
       "      <td>0.002476</td>\n",
       "      <td>0.009108</td>\n",
       "      <td>-0.010704</td>\n",
       "      <td>-0.003030</td>\n",
       "      <td>0.000531</td>\n",
       "      <td>0.001464</td>\n",
       "      <td>0.054926</td>\n",
       "      <td>-0.035835</td>\n",
       "      <td>0.005098</td>\n",
       "      <td>-0.002267</td>\n",
       "      <td>0.000779</td>\n",
       "      <td>0.003862</td>\n",
       "      <td>-0.005153</td>\n",
       "      <td>-0.011299</td>\n",
       "    </tr>\n",
       "  </tbody>\n",
       "</table>\n",
       "</div>"
      ],
      "text/plain": [
       "            shortterm       usd    usdinv  kodexinv       oil      gold  \\\n",
       "2016-03-31   0.948809  0.011406  0.018267 -0.011582  0.005114 -0.015002   \n",
       "2016-04-29   0.915505  0.032745  0.028287  0.069302  0.006757 -0.025602   \n",
       "2016-05-31   1.119990 -0.101811 -0.121403  0.012105  0.004959 -0.000730   \n",
       "2016-06-29   0.882970 -0.036727  0.002915 -0.063515 -0.003138 -0.009640   \n",
       "2016-07-27   0.990045  0.002476  0.009108 -0.010704 -0.003030  0.000531   \n",
       "\n",
       "              hybond   midbond       10y    csi300    nikkei    euro50  \\\n",
       "2016-03-31  0.015295 -0.018544  0.041146 -0.016203 -0.000289 -0.009118   \n",
       "2016-04-29  0.059729 -0.279076  0.154339 -0.012394 -0.010097  0.004433   \n",
       "2016-05-31  0.025001 -0.086753  0.125693  0.008237 -0.004628  0.020287   \n",
       "2016-06-29 -0.022565  0.430402 -0.080325 -0.002859  0.009702  0.000204   \n",
       "2016-07-27  0.001464  0.054926 -0.035835  0.005098 -0.002267  0.000779   \n",
       "\n",
       "               sp500  kosdaq150  kodex200  \n",
       "2016-03-31  0.046988  -0.011598 -0.004691  \n",
       "2016-04-29  0.004437  -0.005199  0.056833  \n",
       "2016-05-31  0.011496  -0.006049 -0.006394  \n",
       "2016-06-29 -0.049995  -0.004591 -0.052838  \n",
       "2016-07-27  0.003862  -0.005153 -0.011299  "
      ]
     },
     "execution_count": 13,
     "metadata": {},
     "output_type": "execute_result"
    }
   ],
   "source": [
    "# List to store the results and their corresponding dates\n",
    "tangent_portfolios = []\n",
    "rebalance_dates = []\n",
    "\n",
    "# Loop through the dataset with the specified window\n",
    "for start in range(0, len(return_df) - WINDOW + 1, WINDOW):\n",
    "    end = start + WINDOW\n",
    "    window_data = return_df[start:end]\n",
    "    \n",
    "    # Calculate the mean returns and covariance matrix for the window\n",
    "    mean_returns = window_data.mean().values\n",
    "    cov_matrix = window_data.cov().values\n",
    "    \n",
    "    # Compute the tangent portfolio weights using the closed-form solution\n",
    "    tangent_weights = tangent_portfolio_weights(mean_returns, cov_matrix)\n",
    "    \n",
    "    # Store the tangent portfolio weights and the corresponding rebalance date\n",
    "    tangent_portfolios.append(tangent_weights)\n",
    "    rebalance_dates.append(return_df.index[end-1])\n",
    "\n",
    "# Convert the list of tangent portfolios to a DataFrame\n",
    "tangent_portfolios_df = pd.DataFrame(tangent_portfolios, index=rebalance_dates, columns=return_df.columns)\n",
    "\n",
    "# Display the resulting DataFrame of tangent portfolio weights\n",
    "tangent_portfolios_df.head()\n"
   ]
  },
  {
   "cell_type": "code",
   "execution_count": 14,
   "metadata": {},
   "outputs": [
    {
     "data": {
      "text/plain": [
       "True"
      ]
     },
     "execution_count": 14,
     "metadata": {},
     "output_type": "execute_result"
    }
   ],
   "source": [
    "np.isclose(tangent_portfolios_df.sum(axis=1), 1.0).all()"
   ]
  },
  {
   "cell_type": "code",
   "execution_count": 15,
   "metadata": {},
   "outputs": [
    {
     "data": {
      "text/html": [
       "<div>\n",
       "<style scoped>\n",
       "    .dataframe tbody tr th:only-of-type {\n",
       "        vertical-align: middle;\n",
       "    }\n",
       "\n",
       "    .dataframe tbody tr th {\n",
       "        vertical-align: top;\n",
       "    }\n",
       "\n",
       "    .dataframe thead th {\n",
       "        text-align: right;\n",
       "    }\n",
       "</style>\n",
       "<table border=\"1\" class=\"dataframe\">\n",
       "  <thead>\n",
       "    <tr style=\"text-align: right;\">\n",
       "      <th></th>\n",
       "      <th>shortterm</th>\n",
       "      <th>usd</th>\n",
       "      <th>usdinv</th>\n",
       "      <th>kodexinv</th>\n",
       "      <th>oil</th>\n",
       "      <th>gold</th>\n",
       "      <th>hybond</th>\n",
       "      <th>midbond</th>\n",
       "      <th>10y</th>\n",
       "      <th>csi300</th>\n",
       "      <th>nikkei</th>\n",
       "      <th>euro50</th>\n",
       "      <th>sp500</th>\n",
       "      <th>kosdaq150</th>\n",
       "      <th>kodex200</th>\n",
       "    </tr>\n",
       "    <tr>\n",
       "      <th>Date</th>\n",
       "      <th></th>\n",
       "      <th></th>\n",
       "      <th></th>\n",
       "      <th></th>\n",
       "      <th></th>\n",
       "      <th></th>\n",
       "      <th></th>\n",
       "      <th></th>\n",
       "      <th></th>\n",
       "      <th></th>\n",
       "      <th></th>\n",
       "      <th></th>\n",
       "      <th></th>\n",
       "      <th></th>\n",
       "      <th></th>\n",
       "    </tr>\n",
       "  </thead>\n",
       "  <tbody>\n",
       "    <tr>\n",
       "      <th>2024-05-10</th>\n",
       "      <td>0.119337</td>\n",
       "      <td>-0.008678</td>\n",
       "      <td>-0.010479</td>\n",
       "      <td>0.159983</td>\n",
       "      <td>-0.003417</td>\n",
       "      <td>0.005423</td>\n",
       "      <td>0.038115</td>\n",
       "      <td>0.678163</td>\n",
       "      <td>-0.103144</td>\n",
       "      <td>-0.006857</td>\n",
       "      <td>0.003574</td>\n",
       "      <td>0.008332</td>\n",
       "      <td>-0.027496</td>\n",
       "      <td>-0.002846</td>\n",
       "      <td>0.14999</td>\n",
       "    </tr>\n",
       "    <tr>\n",
       "      <th>2024-05-13</th>\n",
       "      <td>0.119337</td>\n",
       "      <td>-0.008678</td>\n",
       "      <td>-0.010479</td>\n",
       "      <td>0.159983</td>\n",
       "      <td>-0.003417</td>\n",
       "      <td>0.005423</td>\n",
       "      <td>0.038115</td>\n",
       "      <td>0.678163</td>\n",
       "      <td>-0.103144</td>\n",
       "      <td>-0.006857</td>\n",
       "      <td>0.003574</td>\n",
       "      <td>0.008332</td>\n",
       "      <td>-0.027496</td>\n",
       "      <td>-0.002846</td>\n",
       "      <td>0.14999</td>\n",
       "    </tr>\n",
       "    <tr>\n",
       "      <th>2024-05-14</th>\n",
       "      <td>0.119337</td>\n",
       "      <td>-0.008678</td>\n",
       "      <td>-0.010479</td>\n",
       "      <td>0.159983</td>\n",
       "      <td>-0.003417</td>\n",
       "      <td>0.005423</td>\n",
       "      <td>0.038115</td>\n",
       "      <td>0.678163</td>\n",
       "      <td>-0.103144</td>\n",
       "      <td>-0.006857</td>\n",
       "      <td>0.003574</td>\n",
       "      <td>0.008332</td>\n",
       "      <td>-0.027496</td>\n",
       "      <td>-0.002846</td>\n",
       "      <td>0.14999</td>\n",
       "    </tr>\n",
       "    <tr>\n",
       "      <th>2024-05-16</th>\n",
       "      <td>0.119337</td>\n",
       "      <td>-0.008678</td>\n",
       "      <td>-0.010479</td>\n",
       "      <td>0.159983</td>\n",
       "      <td>-0.003417</td>\n",
       "      <td>0.005423</td>\n",
       "      <td>0.038115</td>\n",
       "      <td>0.678163</td>\n",
       "      <td>-0.103144</td>\n",
       "      <td>-0.006857</td>\n",
       "      <td>0.003574</td>\n",
       "      <td>0.008332</td>\n",
       "      <td>-0.027496</td>\n",
       "      <td>-0.002846</td>\n",
       "      <td>0.14999</td>\n",
       "    </tr>\n",
       "    <tr>\n",
       "      <th>2024-05-17</th>\n",
       "      <td>0.119337</td>\n",
       "      <td>-0.008678</td>\n",
       "      <td>-0.010479</td>\n",
       "      <td>0.159983</td>\n",
       "      <td>-0.003417</td>\n",
       "      <td>0.005423</td>\n",
       "      <td>0.038115</td>\n",
       "      <td>0.678163</td>\n",
       "      <td>-0.103144</td>\n",
       "      <td>-0.006857</td>\n",
       "      <td>0.003574</td>\n",
       "      <td>0.008332</td>\n",
       "      <td>-0.027496</td>\n",
       "      <td>-0.002846</td>\n",
       "      <td>0.14999</td>\n",
       "    </tr>\n",
       "  </tbody>\n",
       "</table>\n",
       "</div>"
      ],
      "text/plain": [
       "            shortterm       usd    usdinv  kodexinv       oil      gold  \\\n",
       "Date                                                                      \n",
       "2024-05-10   0.119337 -0.008678 -0.010479  0.159983 -0.003417  0.005423   \n",
       "2024-05-13   0.119337 -0.008678 -0.010479  0.159983 -0.003417  0.005423   \n",
       "2024-05-14   0.119337 -0.008678 -0.010479  0.159983 -0.003417  0.005423   \n",
       "2024-05-16   0.119337 -0.008678 -0.010479  0.159983 -0.003417  0.005423   \n",
       "2024-05-17   0.119337 -0.008678 -0.010479  0.159983 -0.003417  0.005423   \n",
       "\n",
       "              hybond   midbond       10y    csi300    nikkei    euro50  \\\n",
       "Date                                                                     \n",
       "2024-05-10  0.038115  0.678163 -0.103144 -0.006857  0.003574  0.008332   \n",
       "2024-05-13  0.038115  0.678163 -0.103144 -0.006857  0.003574  0.008332   \n",
       "2024-05-14  0.038115  0.678163 -0.103144 -0.006857  0.003574  0.008332   \n",
       "2024-05-16  0.038115  0.678163 -0.103144 -0.006857  0.003574  0.008332   \n",
       "2024-05-17  0.038115  0.678163 -0.103144 -0.006857  0.003574  0.008332   \n",
       "\n",
       "               sp500  kosdaq150  kodex200  \n",
       "Date                                       \n",
       "2024-05-10 -0.027496  -0.002846   0.14999  \n",
       "2024-05-13 -0.027496  -0.002846   0.14999  \n",
       "2024-05-14 -0.027496  -0.002846   0.14999  \n",
       "2024-05-16 -0.027496  -0.002846   0.14999  \n",
       "2024-05-17 -0.027496  -0.002846   0.14999  "
      ]
     },
     "execution_count": 15,
     "metadata": {},
     "output_type": "execute_result"
    }
   ],
   "source": [
    "weight_df = tangent_portfolios_df.reindex(return_df.index, method='ffill')\n",
    "weight_df.dropna(inplace=True)\n",
    "weight_df.tail()"
   ]
  },
  {
   "cell_type": "code",
   "execution_count": 16,
   "metadata": {},
   "outputs": [],
   "source": [
    "# weight_df should have been sorted before constraint application. \n",
    "\n",
    "weight_df = weight_df[gcfg.FN_ORDER]"
   ]
  },
  {
   "cell_type": "markdown",
   "metadata": {},
   "source": [
    "## Apply constraints"
   ]
  },
  {
   "cell_type": "code",
   "execution_count": 17,
   "metadata": {},
   "outputs": [],
   "source": [
    "constraint_applied_weight_df = ConstraintHandler.apply_constraints(\n",
    "    weights_df=weight_df, \n",
    "    objective_function=obj_mse,\n",
    "    )"
   ]
  },
  {
   "cell_type": "code",
   "execution_count": 18,
   "metadata": {},
   "outputs": [
    {
     "data": {
      "text/plain": [
       "[{'type': 'eq', 'fun': <function validator.ConstraintHandler.<lambda>(w)>},\n",
       " {'type': 'ineq',\n",
       "  'fun': <function validator.ConstraintHandler.<lambda>(w, idx=[0, 1], min_val=0.1)>},\n",
       " {'type': 'ineq',\n",
       "  'fun': <function validator.ConstraintHandler.<lambda>(w, idx=[2, 3, 4, 5], min_val=0.1)>},\n",
       " {'type': 'ineq',\n",
       "  'fun': <function validator.ConstraintHandler.<lambda>(w, idx=[6, 7, 8], min_val=0.2)>},\n",
       " {'type': 'ineq',\n",
       "  'fun': <function validator.ConstraintHandler.<lambda>(w, idx=[9, 10], min_val=0.05)>},\n",
       " {'type': 'ineq',\n",
       "  'fun': <function validator.ConstraintHandler.<lambda>(w, idx=[11], min_val=0.0)>},\n",
       " {'type': 'ineq',\n",
       "  'fun': <function validator.ConstraintHandler.<lambda>(w, idx=[12, 13], min_val=0.0)>},\n",
       " {'type': 'ineq',\n",
       "  'fun': <function validator.ConstraintHandler.<lambda>(w, idx=[14], min_val=0.0)>},\n",
       " {'type': 'ineq',\n",
       "  'fun': <function validator.ConstraintHandler.<lambda>(w, idx=[0, 1], max_val=0.4)>},\n",
       " {'type': 'ineq',\n",
       "  'fun': <function validator.ConstraintHandler.<lambda>(w, idx=[2, 3, 4, 5], max_val=0.4)>},\n",
       " {'type': 'ineq',\n",
       "  'fun': <function validator.ConstraintHandler.<lambda>(w, idx=[6, 7, 8], max_val=0.6)>},\n",
       " {'type': 'ineq',\n",
       "  'fun': <function validator.ConstraintHandler.<lambda>(w, idx=[9, 10], max_val=0.2)>},\n",
       " {'type': 'ineq',\n",
       "  'fun': <function validator.ConstraintHandler.<lambda>(w, idx=[11], max_val=0.2)>},\n",
       " {'type': 'ineq',\n",
       "  'fun': <function validator.ConstraintHandler.<lambda>(w, idx=[12, 13], max_val=0.2)>},\n",
       " {'type': 'ineq',\n",
       "  'fun': <function validator.ConstraintHandler.<lambda>(w, idx=[14], max_val=0.49)>}]"
      ]
     },
     "execution_count": 18,
     "metadata": {},
     "output_type": "execute_result"
    }
   ],
   "source": [
    "ConstraintHandler.CONSTRAINTS"
   ]
  },
  {
   "cell_type": "code",
   "execution_count": 19,
   "metadata": {},
   "outputs": [
    {
     "data": {
      "text/plain": [
       "15"
      ]
     },
     "execution_count": 19,
     "metadata": {},
     "output_type": "execute_result"
    }
   ],
   "source": [
    "w = [0.1] * 15\n",
    "w = np.array(w)\n",
    "len(w)"
   ]
  },
  {
   "cell_type": "code",
   "execution_count": 20,
   "metadata": {},
   "outputs": [
    {
     "data": {
      "text/plain": [
       "{'type': 'ineq',\n",
       " 'fun': <function validator.ConstraintHandler.<lambda>(w, idx=[6, 7, 8], min_val=0.2)>}"
      ]
     },
     "execution_count": 20,
     "metadata": {},
     "output_type": "execute_result"
    }
   ],
   "source": [
    "ConstraintHandler.CONSTRAINTS[3]"
   ]
  },
  {
   "cell_type": "code",
   "execution_count": 21,
   "metadata": {},
   "outputs": [
    {
     "data": {
      "text/plain": [
       "0.5100000000000005"
      ]
     },
     "execution_count": 21,
     "metadata": {},
     "output_type": "execute_result"
    }
   ],
   "source": [
    "ConstraintHandler.CONSTRAINTS[0]['fun'](w)"
   ]
  },
  {
   "cell_type": "code",
   "execution_count": 22,
   "metadata": {},
   "outputs": [
    {
     "data": {
      "text/plain": [
       "0.1"
      ]
     },
     "execution_count": 22,
     "metadata": {},
     "output_type": "execute_result"
    }
   ],
   "source": [
    "ConstraintHandler.CONSTRAINTS[1]['fun'](w) # kor_stock (0.1 + 0.1) - 0.1"
   ]
  },
  {
   "cell_type": "code",
   "execution_count": 23,
   "metadata": {},
   "outputs": [
    {
     "data": {
      "text/plain": [
       "0.30000000000000004"
      ]
     },
     "execution_count": 23,
     "metadata": {},
     "output_type": "execute_result"
    }
   ],
   "source": [
    "ConstraintHandler.CONSTRAINTS[2]['fun'](w) # foreign_stock (0.1 + 0.1 + 0.1 + 0.1) - 0.1"
   ]
  },
  {
   "cell_type": "code",
   "execution_count": 24,
   "metadata": {},
   "outputs": [
    {
     "data": {
      "text/plain": [
       "0.10000000000000003"
      ]
     },
     "execution_count": 24,
     "metadata": {},
     "output_type": "execute_result"
    }
   ],
   "source": [
    "ConstraintHandler.CONSTRAINTS[3]['fun'](w) # bond (0.1 + 0.1 + 0.1) - 0.2"
   ]
  },
  {
   "cell_type": "code",
   "execution_count": 25,
   "metadata": {},
   "outputs": [
    {
     "data": {
      "text/plain": [
       "0.15000000000000002"
      ]
     },
     "execution_count": 25,
     "metadata": {},
     "output_type": "execute_result"
    }
   ],
   "source": [
    "ConstraintHandler.CONSTRAINTS[4]['fun'](w) # commodity (0.1 + 0.1) - 0.05"
   ]
  },
  {
   "cell_type": "code",
   "execution_count": 26,
   "metadata": {},
   "outputs": [
    {
     "data": {
      "text/plain": [
       "0.2"
      ]
     },
     "execution_count": 26,
     "metadata": {},
     "output_type": "execute_result"
    }
   ],
   "source": [
    "gcfg.GROUP_WEIGHT_CONSTRAINTS['bond'][0]"
   ]
  },
  {
   "cell_type": "code",
   "execution_count": null,
   "metadata": {},
   "outputs": [],
   "source": []
  },
  {
   "cell_type": "code",
   "execution_count": null,
   "metadata": {},
   "outputs": [],
   "source": []
  },
  {
   "cell_type": "code",
   "execution_count": 27,
   "metadata": {},
   "outputs": [
    {
     "data": {
      "text/plain": [
       "{'type': 'ineq',\n",
       " 'fun': <function validator.ConstraintHandler.<lambda>(w, idx=[0, 1], max_val=0.4)>}"
      ]
     },
     "execution_count": 27,
     "metadata": {},
     "output_type": "execute_result"
    }
   ],
   "source": [
    "ConstraintHandler.CONSTRAINTS[8]"
   ]
  },
  {
   "cell_type": "code",
   "execution_count": 28,
   "metadata": {},
   "outputs": [
    {
     "data": {
      "text/plain": [
       "0.2"
      ]
     },
     "execution_count": 28,
     "metadata": {},
     "output_type": "execute_result"
    }
   ],
   "source": [
    "ConstraintHandler.CONSTRAINTS[8]['fun'](w)"
   ]
  },
  {
   "cell_type": "code",
   "execution_count": 56,
   "metadata": {},
   "outputs": [
    {
     "data": {
      "text/plain": [
       "0.2"
      ]
     },
     "execution_count": 56,
     "metadata": {},
     "output_type": "execute_result"
    }
   ],
   "source": [
    "0.4 - (0.1 + 0.1) # 씨발 이제야 제대로 작동되네 좆같은 파이썬"
   ]
  },
  {
   "cell_type": "code",
   "execution_count": 29,
   "metadata": {},
   "outputs": [
    {
     "data": {
      "text/html": [
       "<div>\n",
       "<style scoped>\n",
       "    .dataframe tbody tr th:only-of-type {\n",
       "        vertical-align: middle;\n",
       "    }\n",
       "\n",
       "    .dataframe tbody tr th {\n",
       "        vertical-align: top;\n",
       "    }\n",
       "\n",
       "    .dataframe thead th {\n",
       "        text-align: right;\n",
       "    }\n",
       "</style>\n",
       "<table border=\"1\" class=\"dataframe\">\n",
       "  <thead>\n",
       "    <tr style=\"text-align: right;\">\n",
       "      <th></th>\n",
       "      <th>kodex200</th>\n",
       "      <th>kosdaq150</th>\n",
       "      <th>sp500</th>\n",
       "      <th>euro50</th>\n",
       "      <th>nikkei</th>\n",
       "      <th>csi300</th>\n",
       "      <th>10y</th>\n",
       "      <th>midbond</th>\n",
       "      <th>hybond</th>\n",
       "      <th>gold</th>\n",
       "      <th>oil</th>\n",
       "      <th>kodexinv</th>\n",
       "      <th>usd</th>\n",
       "      <th>usdinv</th>\n",
       "      <th>shortterm</th>\n",
       "    </tr>\n",
       "    <tr>\n",
       "      <th>Date</th>\n",
       "      <th></th>\n",
       "      <th></th>\n",
       "      <th></th>\n",
       "      <th></th>\n",
       "      <th></th>\n",
       "      <th></th>\n",
       "      <th></th>\n",
       "      <th></th>\n",
       "      <th></th>\n",
       "      <th></th>\n",
       "      <th></th>\n",
       "      <th></th>\n",
       "      <th></th>\n",
       "      <th></th>\n",
       "      <th></th>\n",
       "    </tr>\n",
       "  </thead>\n",
       "  <tbody>\n",
       "    <tr>\n",
       "      <th>2016-03-31</th>\n",
       "      <td>0.053454</td>\n",
       "      <td>0.046546</td>\n",
       "      <td>0.066643</td>\n",
       "      <td>0.010537</td>\n",
       "      <td>0.019366</td>\n",
       "      <td>0.003453</td>\n",
       "      <td>0.09518</td>\n",
       "      <td>0.03549</td>\n",
       "      <td>0.069329</td>\n",
       "      <td>0.014942</td>\n",
       "      <td>0.035058</td>\n",
       "      <td>1.385529e-18</td>\n",
       "      <td>2.156981e-02</td>\n",
       "      <td>0.02843</td>\n",
       "      <td>0.490000</td>\n",
       "    </tr>\n",
       "    <tr>\n",
       "      <th>2016-04-01</th>\n",
       "      <td>0.053454</td>\n",
       "      <td>0.046546</td>\n",
       "      <td>0.066643</td>\n",
       "      <td>0.010537</td>\n",
       "      <td>0.019366</td>\n",
       "      <td>0.003453</td>\n",
       "      <td>0.09518</td>\n",
       "      <td>0.03549</td>\n",
       "      <td>0.069329</td>\n",
       "      <td>0.014942</td>\n",
       "      <td>0.035058</td>\n",
       "      <td>1.385529e-18</td>\n",
       "      <td>2.156981e-02</td>\n",
       "      <td>0.02843</td>\n",
       "      <td>0.490000</td>\n",
       "    </tr>\n",
       "    <tr>\n",
       "      <th>2016-04-04</th>\n",
       "      <td>0.053454</td>\n",
       "      <td>0.046546</td>\n",
       "      <td>0.066643</td>\n",
       "      <td>0.010537</td>\n",
       "      <td>0.019366</td>\n",
       "      <td>0.003453</td>\n",
       "      <td>0.09518</td>\n",
       "      <td>0.03549</td>\n",
       "      <td>0.069329</td>\n",
       "      <td>0.014942</td>\n",
       "      <td>0.035058</td>\n",
       "      <td>1.385529e-18</td>\n",
       "      <td>2.156981e-02</td>\n",
       "      <td>0.02843</td>\n",
       "      <td>0.490000</td>\n",
       "    </tr>\n",
       "    <tr>\n",
       "      <th>2016-04-05</th>\n",
       "      <td>0.053454</td>\n",
       "      <td>0.046546</td>\n",
       "      <td>0.066643</td>\n",
       "      <td>0.010537</td>\n",
       "      <td>0.019366</td>\n",
       "      <td>0.003453</td>\n",
       "      <td>0.09518</td>\n",
       "      <td>0.03549</td>\n",
       "      <td>0.069329</td>\n",
       "      <td>0.014942</td>\n",
       "      <td>0.035058</td>\n",
       "      <td>1.385529e-18</td>\n",
       "      <td>2.156981e-02</td>\n",
       "      <td>0.02843</td>\n",
       "      <td>0.490000</td>\n",
       "    </tr>\n",
       "    <tr>\n",
       "      <th>2016-04-06</th>\n",
       "      <td>0.053454</td>\n",
       "      <td>0.046546</td>\n",
       "      <td>0.066643</td>\n",
       "      <td>0.010537</td>\n",
       "      <td>0.019366</td>\n",
       "      <td>0.003453</td>\n",
       "      <td>0.09518</td>\n",
       "      <td>0.03549</td>\n",
       "      <td>0.069329</td>\n",
       "      <td>0.014942</td>\n",
       "      <td>0.035058</td>\n",
       "      <td>1.385529e-18</td>\n",
       "      <td>2.156981e-02</td>\n",
       "      <td>0.02843</td>\n",
       "      <td>0.490000</td>\n",
       "    </tr>\n",
       "    <tr>\n",
       "      <th>...</th>\n",
       "      <td>...</td>\n",
       "      <td>...</td>\n",
       "      <td>...</td>\n",
       "      <td>...</td>\n",
       "      <td>...</td>\n",
       "      <td>...</td>\n",
       "      <td>...</td>\n",
       "      <td>...</td>\n",
       "      <td>...</td>\n",
       "      <td>...</td>\n",
       "      <td>...</td>\n",
       "      <td>...</td>\n",
       "      <td>...</td>\n",
       "      <td>...</td>\n",
       "      <td>...</td>\n",
       "    </tr>\n",
       "    <tr>\n",
       "      <th>2024-05-10</th>\n",
       "      <td>0.136880</td>\n",
       "      <td>0.000000</td>\n",
       "      <td>0.002854</td>\n",
       "      <td>0.039025</td>\n",
       "      <td>0.034271</td>\n",
       "      <td>0.023850</td>\n",
       "      <td>0.00000</td>\n",
       "      <td>0.40000</td>\n",
       "      <td>0.050000</td>\n",
       "      <td>0.029415</td>\n",
       "      <td>0.020585</td>\n",
       "      <td>1.468640e-01</td>\n",
       "      <td>6.364356e-17</td>\n",
       "      <td>0.00000</td>\n",
       "      <td>0.106256</td>\n",
       "    </tr>\n",
       "    <tr>\n",
       "      <th>2024-05-13</th>\n",
       "      <td>0.136880</td>\n",
       "      <td>0.000000</td>\n",
       "      <td>0.002854</td>\n",
       "      <td>0.039025</td>\n",
       "      <td>0.034271</td>\n",
       "      <td>0.023850</td>\n",
       "      <td>0.00000</td>\n",
       "      <td>0.40000</td>\n",
       "      <td>0.050000</td>\n",
       "      <td>0.029415</td>\n",
       "      <td>0.020585</td>\n",
       "      <td>1.468640e-01</td>\n",
       "      <td>6.364356e-17</td>\n",
       "      <td>0.00000</td>\n",
       "      <td>0.106256</td>\n",
       "    </tr>\n",
       "    <tr>\n",
       "      <th>2024-05-14</th>\n",
       "      <td>0.136880</td>\n",
       "      <td>0.000000</td>\n",
       "      <td>0.002854</td>\n",
       "      <td>0.039025</td>\n",
       "      <td>0.034271</td>\n",
       "      <td>0.023850</td>\n",
       "      <td>0.00000</td>\n",
       "      <td>0.40000</td>\n",
       "      <td>0.050000</td>\n",
       "      <td>0.029415</td>\n",
       "      <td>0.020585</td>\n",
       "      <td>1.468640e-01</td>\n",
       "      <td>6.364356e-17</td>\n",
       "      <td>0.00000</td>\n",
       "      <td>0.106256</td>\n",
       "    </tr>\n",
       "    <tr>\n",
       "      <th>2024-05-16</th>\n",
       "      <td>0.136880</td>\n",
       "      <td>0.000000</td>\n",
       "      <td>0.002854</td>\n",
       "      <td>0.039025</td>\n",
       "      <td>0.034271</td>\n",
       "      <td>0.023850</td>\n",
       "      <td>0.00000</td>\n",
       "      <td>0.40000</td>\n",
       "      <td>0.050000</td>\n",
       "      <td>0.029415</td>\n",
       "      <td>0.020585</td>\n",
       "      <td>1.468640e-01</td>\n",
       "      <td>6.364356e-17</td>\n",
       "      <td>0.00000</td>\n",
       "      <td>0.106256</td>\n",
       "    </tr>\n",
       "    <tr>\n",
       "      <th>2024-05-17</th>\n",
       "      <td>0.136880</td>\n",
       "      <td>0.000000</td>\n",
       "      <td>0.002854</td>\n",
       "      <td>0.039025</td>\n",
       "      <td>0.034271</td>\n",
       "      <td>0.023850</td>\n",
       "      <td>0.00000</td>\n",
       "      <td>0.40000</td>\n",
       "      <td>0.050000</td>\n",
       "      <td>0.029415</td>\n",
       "      <td>0.020585</td>\n",
       "      <td>1.468640e-01</td>\n",
       "      <td>6.364356e-17</td>\n",
       "      <td>0.00000</td>\n",
       "      <td>0.106256</td>\n",
       "    </tr>\n",
       "  </tbody>\n",
       "</table>\n",
       "<p>1999 rows × 15 columns</p>\n",
       "</div>"
      ],
      "text/plain": [
       "            kodex200  kosdaq150     sp500    euro50    nikkei    csi300  \\\n",
       "Date                                                                      \n",
       "2016-03-31  0.053454   0.046546  0.066643  0.010537  0.019366  0.003453   \n",
       "2016-04-01  0.053454   0.046546  0.066643  0.010537  0.019366  0.003453   \n",
       "2016-04-04  0.053454   0.046546  0.066643  0.010537  0.019366  0.003453   \n",
       "2016-04-05  0.053454   0.046546  0.066643  0.010537  0.019366  0.003453   \n",
       "2016-04-06  0.053454   0.046546  0.066643  0.010537  0.019366  0.003453   \n",
       "...              ...        ...       ...       ...       ...       ...   \n",
       "2024-05-10  0.136880   0.000000  0.002854  0.039025  0.034271  0.023850   \n",
       "2024-05-13  0.136880   0.000000  0.002854  0.039025  0.034271  0.023850   \n",
       "2024-05-14  0.136880   0.000000  0.002854  0.039025  0.034271  0.023850   \n",
       "2024-05-16  0.136880   0.000000  0.002854  0.039025  0.034271  0.023850   \n",
       "2024-05-17  0.136880   0.000000  0.002854  0.039025  0.034271  0.023850   \n",
       "\n",
       "                10y  midbond    hybond      gold       oil      kodexinv  \\\n",
       "Date                                                                       \n",
       "2016-03-31  0.09518  0.03549  0.069329  0.014942  0.035058  1.385529e-18   \n",
       "2016-04-01  0.09518  0.03549  0.069329  0.014942  0.035058  1.385529e-18   \n",
       "2016-04-04  0.09518  0.03549  0.069329  0.014942  0.035058  1.385529e-18   \n",
       "2016-04-05  0.09518  0.03549  0.069329  0.014942  0.035058  1.385529e-18   \n",
       "2016-04-06  0.09518  0.03549  0.069329  0.014942  0.035058  1.385529e-18   \n",
       "...             ...      ...       ...       ...       ...           ...   \n",
       "2024-05-10  0.00000  0.40000  0.050000  0.029415  0.020585  1.468640e-01   \n",
       "2024-05-13  0.00000  0.40000  0.050000  0.029415  0.020585  1.468640e-01   \n",
       "2024-05-14  0.00000  0.40000  0.050000  0.029415  0.020585  1.468640e-01   \n",
       "2024-05-16  0.00000  0.40000  0.050000  0.029415  0.020585  1.468640e-01   \n",
       "2024-05-17  0.00000  0.40000  0.050000  0.029415  0.020585  1.468640e-01   \n",
       "\n",
       "                     usd   usdinv  shortterm  \n",
       "Date                                          \n",
       "2016-03-31  2.156981e-02  0.02843   0.490000  \n",
       "2016-04-01  2.156981e-02  0.02843   0.490000  \n",
       "2016-04-04  2.156981e-02  0.02843   0.490000  \n",
       "2016-04-05  2.156981e-02  0.02843   0.490000  \n",
       "2016-04-06  2.156981e-02  0.02843   0.490000  \n",
       "...                  ...      ...        ...  \n",
       "2024-05-10  6.364356e-17  0.00000   0.106256  \n",
       "2024-05-13  6.364356e-17  0.00000   0.106256  \n",
       "2024-05-14  6.364356e-17  0.00000   0.106256  \n",
       "2024-05-16  6.364356e-17  0.00000   0.106256  \n",
       "2024-05-17  6.364356e-17  0.00000   0.106256  \n",
       "\n",
       "[1999 rows x 15 columns]"
      ]
     },
     "execution_count": 29,
     "metadata": {},
     "output_type": "execute_result"
    }
   ],
   "source": [
    "constraint_applied_weight_df"
   ]
  },
  {
   "cell_type": "markdown",
   "metadata": {},
   "source": [
    "## Alpha validation"
   ]
  },
  {
   "cell_type": "code",
   "execution_count": 30,
   "metadata": {},
   "outputs": [
    {
     "data": {
      "text/plain": [
       "dict_keys(['kodex200', 'kosdaq150', 'sp500', 'euro50', 'nikkei', 'csi300', '10y', 'midbond', 'hybond', 'gold', 'oil', 'kodexinv', 'usd', 'usdinv', 'shortterm'])"
      ]
     },
     "execution_count": 30,
     "metadata": {},
     "output_type": "execute_result"
    }
   ],
   "source": [
    "gcfg.FN_ORDER"
   ]
  },
  {
   "cell_type": "code",
   "execution_count": 31,
   "metadata": {},
   "outputs": [
    {
     "data": {
      "text/plain": [
       "{'kor_stock': [0, 1],\n",
       " 'foreign_stock': [2, 3, 4, 5],\n",
       " 'bond': [6, 7, 8],\n",
       " 'commodity': [9, 10],\n",
       " 'inverse': [11],\n",
       " 'fx': [12, 13],\n",
       " 'money': [14]}"
      ]
     },
     "execution_count": 31,
     "metadata": {},
     "output_type": "execute_result"
    }
   ],
   "source": [
    "gcfg.GROUP_TO_ASSETS_NUM"
   ]
  },
  {
   "cell_type": "code",
   "execution_count": 32,
   "metadata": {},
   "outputs": [],
   "source": [
    "mvo = Alpha('jaepil', constraint_applied_weight_df) # 와 씨발 드디어 됐다. "
   ]
  },
  {
   "cell_type": "code",
   "execution_count": null,
   "metadata": {},
   "outputs": [],
   "source": []
  },
  {
   "cell_type": "code",
   "execution_count": null,
   "metadata": {},
   "outputs": [],
   "source": []
  }
 ],
 "metadata": {
  "kernelspec": {
   "display_name": "sandbox311",
   "language": "python",
   "name": "python3"
  },
  "language_info": {
   "codemirror_mode": {
    "name": "ipython",
    "version": 3
   },
   "file_extension": ".py",
   "mimetype": "text/x-python",
   "name": "python",
   "nbconvert_exporter": "python",
   "pygments_lexer": "ipython3",
   "version": "3.11.9"
  }
 },
 "nbformat": 4,
 "nbformat_minor": 2
}
