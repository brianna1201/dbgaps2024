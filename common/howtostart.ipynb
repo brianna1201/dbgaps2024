{
 "cells": [
  {
   "cell_type": "markdown",
   "metadata": {},
   "source": [
    "# FnGuide 데이터 불러오기 튜토리얼"
   ]
  },
  {
   "cell_type": "code",
   "execution_count": 3,
   "metadata": {},
   "outputs": [],
   "source": [
    "import sys\n",
    "\n",
    "from pathlib import Path\n",
    "\n",
    "import pandas as pd\n",
    "import numpy as np\n",
    "\n",
    "import matplotlib.pyplot as plt\n",
    "from matplotlib import font_manager, rc\n",
    "import seaborn as sns"
   ]
  },
  {
   "cell_type": "code",
   "execution_count": 4,
   "metadata": {},
   "outputs": [],
   "source": [
    "# 경로설정\n",
    "\n",
    "CWD = Path.cwd()\n",
    "WORKSPACE_PATH = CWD.parent\n",
    "COMMON_PATH = WORKSPACE_PATH / 'common'\n",
    "DATA_PATH = WORKSPACE_PATH / 'data'\n",
    "FONT_PATH = COMMON_PATH / 'fonts' / 'NanumGothic.ttf'"
   ]
  },
  {
   "cell_type": "code",
   "execution_count": 5,
   "metadata": {},
   "outputs": [],
   "source": [
    "font_prop = font_manager.FontProperties(fname=FONT_PATH)\n",
    "rc('font', family=font_prop.get_name())"
   ]
  },
  {
   "cell_type": "code",
   "execution_count": 6,
   "metadata": {},
   "outputs": [],
   "source": [
    "sys.path.append(str(COMMON_PATH))"
   ]
  },
  {
   "cell_type": "code",
   "execution_count": 11,
   "metadata": {},
   "outputs": [],
   "source": [
    "import fn_loader as fn\n",
    "import fn_config as fncfg"
   ]
  },
  {
   "cell_type": "code",
   "execution_count": 12,
   "metadata": {},
   "outputs": [],
   "source": [
    "# loader 생성 (데이터 로드 + multi index로 전처리)\n",
    "# use_alias=True 일 경우 긴 ETF명 대신 축약한 단어 사용\n",
    "pricevolume1 = fn.FnDataLoader('DBGAPS2024_pricevolume.xlsx', use_alias=True)  "
   ]
  },
  {
   "cell_type": "code",
   "execution_count": 13,
   "metadata": {},
   "outputs": [
    {
     "data": {
      "text/plain": [
       "{'KOSEF 단기자금': 'shortterm',\n",
       " 'KOSEF 미국달러선물': 'usd',\n",
       " 'KOSEF 미국달러선물인버스': 'usdinv',\n",
       " 'KODEX 인버스': 'kodexinv',\n",
       " 'TIGER 원유선물Enhanced(H)': 'oil',\n",
       " 'KODEX 골드선물(H)': 'gold',\n",
       " 'TIGER 단기선진하이일드(합성 H)': 'hybond',\n",
       " 'KBSTAR 중기우량회사채': 'midbond',\n",
       " 'KOSEF 국고채10년': '10y',\n",
       " 'TIGER 차이나CSI300': 'csi300',\n",
       " 'ACE 일본Nikkei225(H)': 'nikkei',\n",
       " 'TIGER 유로스탁스50(합성 H)': 'euro50',\n",
       " 'TIGER 미국S&P500선물(H)': 'sp500',\n",
       " 'TIGER 코스닥150': 'kosdaq150',\n",
       " 'KODEX 200': 'kodex200'}"
      ]
     },
     "execution_count": 13,
     "metadata": {},
     "output_type": "execute_result"
    }
   ],
   "source": [
    "# 자산이름 축약\n",
    "fncfg.ASSET_ALIASES"
   ]
  },
  {
   "cell_type": "code",
   "execution_count": 14,
   "metadata": {},
   "outputs": [
    {
     "data": {
      "text/plain": [
       "{'거래대금(원)': 'moneyvolume',\n",
       " '수익률(%)': 'return',\n",
       " '수정고가(원)': 'adjhigh',\n",
       " '수정시가(원)': 'adjopen',\n",
       " '수정저가(원)': 'adjlow',\n",
       " '수정주가(원)': 'adjclose'}"
      ]
     },
     "execution_count": 14,
     "metadata": {},
     "output_type": "execute_result"
    }
   ],
   "source": [
    "# 데이터 필드명 축약\n",
    "fncfg.ITEM_ALIASES"
   ]
  },
  {
   "cell_type": "code",
   "execution_count": 15,
   "metadata": {},
   "outputs": [
    {
     "data": {
      "text/plain": [
       "Index(['shortterm', 'usd', 'usdinv', 'kodexinv', 'oil', 'gold', 'hybond',\n",
       "       'midbond', '10y', 'csi300', 'nikkei', 'euro50', 'sp500', 'kosdaq150',\n",
       "       'kodex200'],\n",
       "      dtype='object')"
      ]
     },
     "execution_count": 15,
     "metadata": {},
     "output_type": "execute_result"
    }
   ],
   "source": [
    "# 종목명 로드\n",
    "pricevolume1.get_universe()"
   ]
  },
  {
   "cell_type": "code",
   "execution_count": 16,
   "metadata": {},
   "outputs": [
    {
     "data": {
      "text/plain": [
       "Index(['return', 'adjopen', 'adjhigh', 'adjlow', 'adjclose', 'moneyvolume'], dtype='object')"
      ]
     },
     "execution_count": 16,
     "metadata": {},
     "output_type": "execute_result"
    }
   ],
   "source": [
    "# 데이터필드 로드\n",
    "pricevolume1.get_datafields()"
   ]
  },
  {
   "cell_type": "code",
   "execution_count": 18,
   "metadata": {},
   "outputs": [
    {
     "data": {
      "text/html": [
       "<div>\n",
       "<style scoped>\n",
       "    .dataframe tbody tr th:only-of-type {\n",
       "        vertical-align: middle;\n",
       "    }\n",
       "\n",
       "    .dataframe tbody tr th {\n",
       "        vertical-align: top;\n",
       "    }\n",
       "\n",
       "    .dataframe thead th {\n",
       "        text-align: right;\n",
       "    }\n",
       "</style>\n",
       "<table border=\"1\" class=\"dataframe\">\n",
       "  <thead>\n",
       "    <tr style=\"text-align: right;\">\n",
       "      <th></th>\n",
       "      <th>shortterm</th>\n",
       "      <th>usd</th>\n",
       "      <th>usdinv</th>\n",
       "      <th>kodexinv</th>\n",
       "      <th>oil</th>\n",
       "      <th>gold</th>\n",
       "      <th>hybond</th>\n",
       "      <th>midbond</th>\n",
       "      <th>10y</th>\n",
       "      <th>csi300</th>\n",
       "      <th>nikkei</th>\n",
       "      <th>euro50</th>\n",
       "      <th>sp500</th>\n",
       "      <th>kosdaq150</th>\n",
       "      <th>kodex200</th>\n",
       "    </tr>\n",
       "    <tr>\n",
       "      <th>Date</th>\n",
       "      <th></th>\n",
       "      <th></th>\n",
       "      <th></th>\n",
       "      <th></th>\n",
       "      <th></th>\n",
       "      <th></th>\n",
       "      <th></th>\n",
       "      <th></th>\n",
       "      <th></th>\n",
       "      <th></th>\n",
       "      <th></th>\n",
       "      <th></th>\n",
       "      <th></th>\n",
       "      <th></th>\n",
       "      <th></th>\n",
       "    </tr>\n",
       "  </thead>\n",
       "  <tbody>\n",
       "    <tr>\n",
       "      <th>2016-03-04</th>\n",
       "      <td>0.00</td>\n",
       "      <td>-0.96</td>\n",
       "      <td>0.92</td>\n",
       "      <td>-0.12</td>\n",
       "      <td>1.27</td>\n",
       "      <td>1.83</td>\n",
       "      <td>0.37</td>\n",
       "      <td>-0.20</td>\n",
       "      <td>-0.19</td>\n",
       "      <td>0.42</td>\n",
       "      <td>0.19</td>\n",
       "      <td>-0.46</td>\n",
       "      <td>0.43</td>\n",
       "      <td>0.28</td>\n",
       "      <td>0.02</td>\n",
       "    </tr>\n",
       "    <tr>\n",
       "      <th>2016-03-07</th>\n",
       "      <td>0.00</td>\n",
       "      <td>-0.36</td>\n",
       "      <td>0.19</td>\n",
       "      <td>-0.24</td>\n",
       "      <td>4.58</td>\n",
       "      <td>-0.21</td>\n",
       "      <td>0.37</td>\n",
       "      <td>0.17</td>\n",
       "      <td>0.00</td>\n",
       "      <td>0.48</td>\n",
       "      <td>-0.24</td>\n",
       "      <td>-0.05</td>\n",
       "      <td>0.06</td>\n",
       "      <td>-0.51</td>\n",
       "      <td>0.21</td>\n",
       "    </tr>\n",
       "    <tr>\n",
       "      <th>2016-03-08</th>\n",
       "      <td>-0.01</td>\n",
       "      <td>0.45</td>\n",
       "      <td>-0.43</td>\n",
       "      <td>0.79</td>\n",
       "      <td>0.93</td>\n",
       "      <td>0.67</td>\n",
       "      <td>0.05</td>\n",
       "      <td>0.00</td>\n",
       "      <td>0.29</td>\n",
       "      <td>-0.89</td>\n",
       "      <td>-0.48</td>\n",
       "      <td>-0.05</td>\n",
       "      <td>-0.11</td>\n",
       "      <td>0.09</td>\n",
       "      <td>-0.70</td>\n",
       "    </tr>\n",
       "    <tr>\n",
       "      <th>2016-03-09</th>\n",
       "      <td>0.02</td>\n",
       "      <td>0.97</td>\n",
       "      <td>-0.82</td>\n",
       "      <td>-0.42</td>\n",
       "      <td>-1.45</td>\n",
       "      <td>-1.07</td>\n",
       "      <td>-0.05</td>\n",
       "      <td>-0.14</td>\n",
       "      <td>-0.05</td>\n",
       "      <td>-0.35</td>\n",
       "      <td>-1.00</td>\n",
       "      <td>-0.57</td>\n",
       "      <td>-0.21</td>\n",
       "      <td>0.60</td>\n",
       "      <td>0.43</td>\n",
       "    </tr>\n",
       "    <tr>\n",
       "      <th>2016-03-10</th>\n",
       "      <td>-0.01</td>\n",
       "      <td>-1.08</td>\n",
       "      <td>1.12</td>\n",
       "      <td>-0.73</td>\n",
       "      <td>1.74</td>\n",
       "      <td>-0.46</td>\n",
       "      <td>-0.10</td>\n",
       "      <td>0.19</td>\n",
       "      <td>-0.10</td>\n",
       "      <td>0.21</td>\n",
       "      <td>1.16</td>\n",
       "      <td>0.10</td>\n",
       "      <td>0.17</td>\n",
       "      <td>0.55</td>\n",
       "      <td>0.92</td>\n",
       "    </tr>\n",
       "  </tbody>\n",
       "</table>\n",
       "</div>"
      ],
      "text/plain": [
       "            shortterm   usd  usdinv  kodexinv   oil  gold  hybond  midbond  \\\n",
       "Date                                                                         \n",
       "2016-03-04       0.00 -0.96    0.92     -0.12  1.27  1.83    0.37    -0.20   \n",
       "2016-03-07       0.00 -0.36    0.19     -0.24  4.58 -0.21    0.37     0.17   \n",
       "2016-03-08      -0.01  0.45   -0.43      0.79  0.93  0.67    0.05     0.00   \n",
       "2016-03-09       0.02  0.97   -0.82     -0.42 -1.45 -1.07   -0.05    -0.14   \n",
       "2016-03-10      -0.01 -1.08    1.12     -0.73  1.74 -0.46   -0.10     0.19   \n",
       "\n",
       "             10y  csi300  nikkei  euro50  sp500  kosdaq150  kodex200  \n",
       "Date                                                                  \n",
       "2016-03-04 -0.19    0.42    0.19   -0.46   0.43       0.28      0.02  \n",
       "2016-03-07  0.00    0.48   -0.24   -0.05   0.06      -0.51      0.21  \n",
       "2016-03-08  0.29   -0.89   -0.48   -0.05  -0.11       0.09     -0.70  \n",
       "2016-03-09 -0.05   -0.35   -1.00   -0.57  -0.21       0.60      0.43  \n",
       "2016-03-10 -0.10    0.21    1.16    0.10   0.17       0.55      0.92  "
      ]
     },
     "execution_count": 18,
     "metadata": {},
     "output_type": "execute_result"
    }
   ],
   "source": [
    "# 원하는 데이터를 2d 형태로 로드 (default로 nan 제거)\n",
    "return_df = pricevolume1.get_data('return') # \n",
    "return_df.head() # Nikkei225랑 코스닥150이 nan이라 원래 2015-01-01부턴데 2016-03-04부터 시작"
   ]
  },
  {
   "cell_type": "code",
   "execution_count": null,
   "metadata": {},
   "outputs": [],
   "source": []
  }
 ],
 "metadata": {
  "kernelspec": {
   "display_name": "quant39",
   "language": "python",
   "name": "python3"
  },
  "language_info": {
   "codemirror_mode": {
    "name": "ipython",
    "version": 3
   },
   "file_extension": ".py",
   "mimetype": "text/x-python",
   "name": "python",
   "nbconvert_exporter": "python",
   "pygments_lexer": "ipython3",
   "version": "3.9.18"
  }
 },
 "nbformat": 4,
 "nbformat_minor": 2
}
