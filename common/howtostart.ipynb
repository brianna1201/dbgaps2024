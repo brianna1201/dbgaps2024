{
 "cells": [
  {
   "cell_type": "markdown",
   "metadata": {},
   "source": [
    "# FnGuide 데이터 불러오기 튜토리얼"
   ]
  },
  {
   "cell_type": "code",
   "execution_count": 5,
   "metadata": {},
   "outputs": [],
   "source": [
    "import sys\n",
    "\n",
    "from pathlib import Path\n",
    "\n",
    "import pandas as pd\n",
    "import numpy as np"
   ]
  },
  {
   "cell_type": "code",
   "execution_count": 12,
   "metadata": {},
   "outputs": [],
   "source": [
    "# 경로설정\n",
    "\n",
    "CWD = Path.cwd()\n",
    "WORKSPACE_PATH = CWD.parent\n",
    "COMMON_PATH = WORKSPACE_PATH / 'common'\n",
    "DATA_PATH = WORKSPACE_PATH / 'data'"
   ]
  },
  {
   "cell_type": "code",
   "execution_count": 120,
   "metadata": {},
   "outputs": [],
   "source": [
    "sys.path.append(str(COMMON_PATH))"
   ]
  },
  {
   "cell_type": "code",
   "execution_count": 122,
   "metadata": {},
   "outputs": [],
   "source": [
    "import fn_loader as fn"
   ]
  },
  {
   "cell_type": "code",
   "execution_count": 123,
   "metadata": {},
   "outputs": [],
   "source": [
    "# loader 생성 (데이터 로드 + multi index로 전처리)\n",
    "pricevolume1 = fn.FnDataLoader('DBGAPS2024_pricevolume.xlsx') "
   ]
  },
  {
   "cell_type": "code",
   "execution_count": 124,
   "metadata": {},
   "outputs": [
    {
     "data": {
      "text/plain": [
       "Index(['ACE 일본Nikkei225(H)', 'KBSTAR 중기우량회사채', 'KODEX 200', 'KODEX 골드선물(H)',\n",
       "       'KODEX 인버스', 'KOSEF 국고채10년', 'KOSEF 단기자금', 'KOSEF 미국달러선물',\n",
       "       'KOSEF 미국달러선물인버스', 'Symbol Name', 'TIGER 단기선진하이일드(합성 H)',\n",
       "       'TIGER 미국S&P500선물(H)', 'TIGER 원유선물Enhanced(H)', 'TIGER 유로스탁스50(합성 H)',\n",
       "       'TIGER 차이나CSI300', 'TIGER 코스닥150'],\n",
       "      dtype='object')"
      ]
     },
     "execution_count": 124,
     "metadata": {},
     "output_type": "execute_result"
    }
   ],
   "source": [
    "# 종목명 로드\n",
    "pricevolume1.get_universe()"
   ]
  },
  {
   "cell_type": "code",
   "execution_count": 125,
   "metadata": {},
   "outputs": [
    {
     "data": {
      "text/plain": [
       "Index(['Item Name', '거래대금(원)', '수익률(%)', '수정고가(원)', '수정시가(원)', '수정저가(원)',\n",
       "       '수정주가(원)'],\n",
       "      dtype='object')"
      ]
     },
     "execution_count": 125,
     "metadata": {},
     "output_type": "execute_result"
    }
   ],
   "source": [
    "# 데이터필드 로드\n",
    "pricevolume1.get_datafields()"
   ]
  },
  {
   "cell_type": "code",
   "execution_count": 127,
   "metadata": {},
   "outputs": [
    {
     "data": {
      "text/html": [
       "<div>\n",
       "<style scoped>\n",
       "    .dataframe tbody tr th:only-of-type {\n",
       "        vertical-align: middle;\n",
       "    }\n",
       "\n",
       "    .dataframe tbody tr th {\n",
       "        vertical-align: top;\n",
       "    }\n",
       "\n",
       "    .dataframe thead th {\n",
       "        text-align: right;\n",
       "    }\n",
       "</style>\n",
       "<table border=\"1\" class=\"dataframe\">\n",
       "  <thead>\n",
       "    <tr style=\"text-align: right;\">\n",
       "      <th></th>\n",
       "      <th>KOSEF 단기자금</th>\n",
       "      <th>KOSEF 미국달러선물</th>\n",
       "      <th>KOSEF 미국달러선물인버스</th>\n",
       "      <th>KODEX 인버스</th>\n",
       "      <th>TIGER 원유선물Enhanced(H)</th>\n",
       "      <th>KODEX 골드선물(H)</th>\n",
       "      <th>TIGER 단기선진하이일드(합성 H)</th>\n",
       "      <th>KBSTAR 중기우량회사채</th>\n",
       "      <th>KOSEF 국고채10년</th>\n",
       "      <th>TIGER 차이나CSI300</th>\n",
       "      <th>ACE 일본Nikkei225(H)</th>\n",
       "      <th>TIGER 유로스탁스50(합성 H)</th>\n",
       "      <th>TIGER 미국S&amp;P500선물(H)</th>\n",
       "      <th>TIGER 코스닥150</th>\n",
       "      <th>KODEX 200</th>\n",
       "    </tr>\n",
       "    <tr>\n",
       "      <th>Date</th>\n",
       "      <th></th>\n",
       "      <th></th>\n",
       "      <th></th>\n",
       "      <th></th>\n",
       "      <th></th>\n",
       "      <th></th>\n",
       "      <th></th>\n",
       "      <th></th>\n",
       "      <th></th>\n",
       "      <th></th>\n",
       "      <th></th>\n",
       "      <th></th>\n",
       "      <th></th>\n",
       "      <th></th>\n",
       "      <th></th>\n",
       "    </tr>\n",
       "  </thead>\n",
       "  <tbody>\n",
       "    <tr>\n",
       "      <th>2016-03-04</th>\n",
       "      <td>0.00</td>\n",
       "      <td>-0.96</td>\n",
       "      <td>0.92</td>\n",
       "      <td>-0.12</td>\n",
       "      <td>1.27</td>\n",
       "      <td>1.83</td>\n",
       "      <td>0.37</td>\n",
       "      <td>-0.20</td>\n",
       "      <td>-0.19</td>\n",
       "      <td>0.42</td>\n",
       "      <td>0.19</td>\n",
       "      <td>-0.46</td>\n",
       "      <td>0.43</td>\n",
       "      <td>0.28</td>\n",
       "      <td>0.02</td>\n",
       "    </tr>\n",
       "    <tr>\n",
       "      <th>2016-03-07</th>\n",
       "      <td>0.00</td>\n",
       "      <td>-0.36</td>\n",
       "      <td>0.19</td>\n",
       "      <td>-0.24</td>\n",
       "      <td>4.58</td>\n",
       "      <td>-0.21</td>\n",
       "      <td>0.37</td>\n",
       "      <td>0.17</td>\n",
       "      <td>0.00</td>\n",
       "      <td>0.48</td>\n",
       "      <td>-0.24</td>\n",
       "      <td>-0.05</td>\n",
       "      <td>0.06</td>\n",
       "      <td>-0.51</td>\n",
       "      <td>0.21</td>\n",
       "    </tr>\n",
       "    <tr>\n",
       "      <th>2016-03-08</th>\n",
       "      <td>-0.01</td>\n",
       "      <td>0.45</td>\n",
       "      <td>-0.43</td>\n",
       "      <td>0.79</td>\n",
       "      <td>0.93</td>\n",
       "      <td>0.67</td>\n",
       "      <td>0.05</td>\n",
       "      <td>0.00</td>\n",
       "      <td>0.29</td>\n",
       "      <td>-0.89</td>\n",
       "      <td>-0.48</td>\n",
       "      <td>-0.05</td>\n",
       "      <td>-0.11</td>\n",
       "      <td>0.09</td>\n",
       "      <td>-0.70</td>\n",
       "    </tr>\n",
       "    <tr>\n",
       "      <th>2016-03-09</th>\n",
       "      <td>0.02</td>\n",
       "      <td>0.97</td>\n",
       "      <td>-0.82</td>\n",
       "      <td>-0.42</td>\n",
       "      <td>-1.45</td>\n",
       "      <td>-1.07</td>\n",
       "      <td>-0.05</td>\n",
       "      <td>-0.14</td>\n",
       "      <td>-0.05</td>\n",
       "      <td>-0.35</td>\n",
       "      <td>-1.00</td>\n",
       "      <td>-0.57</td>\n",
       "      <td>-0.21</td>\n",
       "      <td>0.60</td>\n",
       "      <td>0.43</td>\n",
       "    </tr>\n",
       "    <tr>\n",
       "      <th>2016-03-10</th>\n",
       "      <td>-0.01</td>\n",
       "      <td>-1.08</td>\n",
       "      <td>1.12</td>\n",
       "      <td>-0.73</td>\n",
       "      <td>1.74</td>\n",
       "      <td>-0.46</td>\n",
       "      <td>-0.10</td>\n",
       "      <td>0.19</td>\n",
       "      <td>-0.10</td>\n",
       "      <td>0.21</td>\n",
       "      <td>1.16</td>\n",
       "      <td>0.10</td>\n",
       "      <td>0.17</td>\n",
       "      <td>0.55</td>\n",
       "      <td>0.92</td>\n",
       "    </tr>\n",
       "  </tbody>\n",
       "</table>\n",
       "</div>"
      ],
      "text/plain": [
       "            KOSEF 단기자금  KOSEF 미국달러선물  KOSEF 미국달러선물인버스  KODEX 인버스  \\\n",
       "Date                                                               \n",
       "2016-03-04        0.00         -0.96             0.92      -0.12   \n",
       "2016-03-07        0.00         -0.36             0.19      -0.24   \n",
       "2016-03-08       -0.01          0.45            -0.43       0.79   \n",
       "2016-03-09        0.02          0.97            -0.82      -0.42   \n",
       "2016-03-10       -0.01         -1.08             1.12      -0.73   \n",
       "\n",
       "            TIGER 원유선물Enhanced(H)  KODEX 골드선물(H)  TIGER 단기선진하이일드(합성 H)  \\\n",
       "Date                                                                     \n",
       "2016-03-04                   1.27           1.83                  0.37   \n",
       "2016-03-07                   4.58          -0.21                  0.37   \n",
       "2016-03-08                   0.93           0.67                  0.05   \n",
       "2016-03-09                  -1.45          -1.07                 -0.05   \n",
       "2016-03-10                   1.74          -0.46                 -0.10   \n",
       "\n",
       "            KBSTAR 중기우량회사채  KOSEF 국고채10년  TIGER 차이나CSI300  ACE 일본Nikkei225(H)  \\\n",
       "Date                                                                            \n",
       "2016-03-04           -0.20         -0.19             0.42                0.19   \n",
       "2016-03-07            0.17          0.00             0.48               -0.24   \n",
       "2016-03-08            0.00          0.29            -0.89               -0.48   \n",
       "2016-03-09           -0.14         -0.05            -0.35               -1.00   \n",
       "2016-03-10            0.19         -0.10             0.21                1.16   \n",
       "\n",
       "            TIGER 유로스탁스50(합성 H)  TIGER 미국S&P500선물(H)  TIGER 코스닥150  KODEX 200  \n",
       "Date                                                                           \n",
       "2016-03-04                -0.46                 0.43          0.28       0.02  \n",
       "2016-03-07                -0.05                 0.06         -0.51       0.21  \n",
       "2016-03-08                -0.05                -0.11          0.09      -0.70  \n",
       "2016-03-09                -0.57                -0.21          0.60       0.43  \n",
       "2016-03-10                 0.10                 0.17          0.55       0.92  "
      ]
     },
     "execution_count": 127,
     "metadata": {},
     "output_type": "execute_result"
    }
   ],
   "source": [
    "# 원하는 데이터를 2d 형태로 로드 (default로 nan 제거)\n",
    "return_df = pricevolume1.get_data('수익률(%)') # \n",
    "return_df.head() # Nikkei225랑 코스닥150이 nan이라 원래 2015-01-01부턴데 2016-03-04부터 시작"
   ]
  },
  {
   "cell_type": "code",
   "execution_count": null,
   "metadata": {},
   "outputs": [],
   "source": []
  }
 ],
 "metadata": {
  "kernelspec": {
   "display_name": "quant39",
   "language": "python",
   "name": "python3"
  },
  "language_info": {
   "codemirror_mode": {
    "name": "ipython",
    "version": 3
   },
   "file_extension": ".py",
   "mimetype": "text/x-python",
   "name": "python",
   "nbconvert_exporter": "python",
   "pygments_lexer": "ipython3",
   "version": "3.9.18"
  }
 },
 "nbformat": 4,
 "nbformat_minor": 2
}
